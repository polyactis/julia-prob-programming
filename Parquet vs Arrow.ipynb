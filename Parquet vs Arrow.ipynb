{
 "cells": [
  {
   "cell_type": "code",
   "execution_count": 1,
   "id": "72fdef50-9ddf-4520-aa89-d80a9bdda2b2",
   "metadata": {},
   "outputs": [
    {
     "name": "stdout",
     "output_type": "stream",
     "text": [
      "Julia Version 1.10.2\n",
      "Commit bd47eca2c8a (2024-03-01 10:14 UTC)\n",
      "Build Info:\n",
      "  Official https://julialang.org/ release\n",
      "Platform Info:\n",
      "  OS: Linux (x86_64-linux-gnu)\n",
      "  CPU: 96 × Intel(R) Xeon(R) Gold 5318Y CPU @ 2.10GHz\n",
      "  WORD_SIZE: 64\n",
      "  LIBM: libopenlibm\n",
      "  LLVM: libLLVM-15.0.7 (ORCJIT, icelake-server)\n",
      "Threads: 1 default, 0 interactive, 1 GC (on 96 virtual cores)\n",
      "Environment:\n",
      "  JULIA_PKG_SERVER = https://mirrors.tuna.tsinghua.edu.cn/julia\n"
     ]
    }
   ],
   "source": [
    "versioninfo()"
   ]
  },
  {
   "cell_type": "code",
   "execution_count": 1,
   "id": "63d15d6a-5131-490a-8da9-0f1a61196043",
   "metadata": {},
   "outputs": [
    {
     "name": "stdout",
     "output_type": "stream",
     "text": [
      "  5.586627 seconds (2.15 M allocations: 130.029 MiB, 7.60% gc time, 3.58% compilation time: 78% of which was recompilation)\n",
      "  4.973507 seconds (1.54 M allocations: 94.065 MiB, 2.47% gc time, 7.11% compilation time: 65% of which was recompilation)\n"
     ]
    }
   ],
   "source": [
    "@time using CSV, DataFrames, Distributions, Plots, ProgressMeter\n",
    "@time using Random, Statistics, StatsPlots, Turing"
   ]
  },
  {
   "cell_type": "markdown",
   "id": "cfab1ea1-4b79-435f-a644-4222294bf63b",
   "metadata": {},
   "source": [
    "# 1 Load a tsv file"
   ]
  },
  {
   "cell_type": "code",
   "execution_count": 2,
   "id": "aec2b84d-bfea-4598-a4af-b762a793cdf0",
   "metadata": {},
   "outputs": [
    {
     "name": "stdout",
     "output_type": "stream",
     "text": [
      "  7.598030 seconds (14.24 M allocations: 700.154 MiB, 14.56% gc time, 49.48% compilation time: 33% of which was recompilation)\n"
     ]
    },
    {
     "data": {
      "text/html": [
       "<div><div style = \"float: left;\"><span>3×8 DataFrame</span></div><div style = \"clear: both;\"></div></div><div class = \"data-frame\" style = \"overflow-x: scroll;\"><table class = \"data-frame\" style = \"margin-bottom: 6px;\"><thead><tr class = \"header\"><th class = \"rowNumber\" style = \"font-weight: bold; text-align: right;\">Row</th><th style = \"text-align: left;\">chrom</th><th style = \"text-align: left;\">pos_raw</th><th style = \"text-align: left;\">ref</th><th style = \"text-align: left;\">context</th><th style = \"text-align: left;\">alt</th><th style = \"text-align: left;\">support_reads</th><th style = \"text-align: left;\">depth</th><th style = \"text-align: left;\">freq</th></tr><tr class = \"subheader headerLastRow\"><th class = \"rowNumber\" style = \"font-weight: bold; text-align: right;\"></th><th title = \"String\" style = \"text-align: left;\">String</th><th title = \"Int32\" style = \"text-align: left;\">Int32</th><th title = \"String\" style = \"text-align: left;\">String</th><th title = \"String\" style = \"text-align: left;\">String</th><th title = \"String\" style = \"text-align: left;\">String</th><th title = \"Int32\" style = \"text-align: left;\">Int32</th><th title = \"Int32\" style = \"text-align: left;\">Int32</th><th title = \"Float32\" style = \"text-align: left;\">Float32</th></tr></thead><tbody><tr><td class = \"rowNumber\" style = \"font-weight: bold; text-align: right;\">1</td><td style = \"text-align: left;\">chr1</td><td style = \"text-align: right;\">11168282</td><td style = \"text-align: left;\">T</td><td style = \"text-align: left;\">GTT</td><td style = \"text-align: left;\">T</td><td style = \"text-align: right;\">365</td><td style = \"text-align: right;\">365</td><td style = \"text-align: right;\">1.0</td></tr><tr><td class = \"rowNumber\" style = \"font-weight: bold; text-align: right;\">2</td><td style = \"text-align: left;\">chr1</td><td style = \"text-align: right;\">11168282</td><td style = \"text-align: left;\">T</td><td style = \"text-align: left;\">GTT</td><td style = \"text-align: left;\">C</td><td style = \"text-align: right;\">0</td><td style = \"text-align: right;\">365</td><td style = \"text-align: right;\">0.0</td></tr><tr><td class = \"rowNumber\" style = \"font-weight: bold; text-align: right;\">3</td><td style = \"text-align: left;\">chr1</td><td style = \"text-align: right;\">11168282</td><td style = \"text-align: left;\">T</td><td style = \"text-align: left;\">GTT</td><td style = \"text-align: left;\">G</td><td style = \"text-align: right;\">0</td><td style = \"text-align: right;\">365</td><td style = \"text-align: right;\">0.0</td></tr></tbody></table></div>"
      ],
      "text/latex": [
       "\\begin{tabular}{r|cccccccc}\n",
       "\t& chrom & pos\\_raw & ref & context & alt & support\\_reads & depth & freq\\\\\n",
       "\t\\hline\n",
       "\t& String & Int32 & String & String & String & Int32 & Int32 & Float32\\\\\n",
       "\t\\hline\n",
       "\t1 & chr1 & 11168282 & T & GTT & T & 365 & 365 & 1.0 \\\\\n",
       "\t2 & chr1 & 11168282 & T & GTT & C & 0 & 365 & 0.0 \\\\\n",
       "\t3 & chr1 & 11168282 & T & GTT & G & 0 & 365 & 0.0 \\\\\n",
       "\\end{tabular}\n"
      ],
      "text/plain": [
       "\u001b[1m3×8 DataFrame\u001b[0m\n",
       "\u001b[1m Row \u001b[0m│\u001b[1m chrom  \u001b[0m\u001b[1m pos_raw  \u001b[0m\u001b[1m ref    \u001b[0m\u001b[1m context \u001b[0m\u001b[1m alt    \u001b[0m\u001b[1m support_reads \u001b[0m\u001b[1m depth \u001b[0m\u001b[1m freq  \u001b[0m ⋯\n",
       "     │\u001b[90m String \u001b[0m\u001b[90m Int32    \u001b[0m\u001b[90m String \u001b[0m\u001b[90m String  \u001b[0m\u001b[90m String \u001b[0m\u001b[90m Int32         \u001b[0m\u001b[90m Int32 \u001b[0m\u001b[90m Float3\u001b[0m ⋯\n",
       "─────┼──────────────────────────────────────────────────────────────────────────\n",
       "   1 │ chr1    11168282  T       GTT      T                 365    365      1. ⋯\n",
       "   2 │ chr1    11168282  T       GTT      C                   0    365      0.\n",
       "   3 │ chr1    11168282  T       GTT      G                   0    365      0.\n",
       "\u001b[36m                                                                1 column omitted\u001b[0m"
      ]
     },
     "execution_count": 2,
     "metadata": {},
     "output_type": "execute_result"
    }
   ],
   "source": [
    "folder_path = \"/mnt/titan01/IVD/projects/LDT/jinxiang/03_zhong_panel/05_build_like_MRD_BG/01_build_datasets/02_allele_file\"\n",
    "\n",
    "column_types = Dict(\"chrom\" => String, \"pos_raw\" => Int32, \n",
    "        \"ref\" => String, \"context\" => String, \"alt\" => String, \n",
    "        \"support_reads\" => Int32, \n",
    "        \"depth\" => Int32, \"freq\" => Float32)\n",
    "#Char, String3, String7 are not supported by Parquet.\n",
    "sample_id=\"sample20240318-C-T7-R-20240315-C61_I1\"\n",
    "file_path = joinpath(folder_path, \"$(sample_id).allele.txt\");\n",
    "@time df_raw = CSV.read(file_path, DataFrame, types=column_types)\n",
    "\n",
    "first(df_raw,3)"
   ]
  },
  {
   "cell_type": "code",
   "execution_count": 3,
   "id": "5fd3c449-fff4-4f32-82a9-99f78fc663b2",
   "metadata": {},
   "outputs": [
    {
     "data": {
      "text/plain": [
       "93221325"
      ]
     },
     "execution_count": 3,
     "metadata": {},
     "output_type": "execute_result"
    }
   ],
   "source": [
    "Base.summarysize(df_raw)"
   ]
  },
  {
   "cell_type": "markdown",
   "id": "68c80dfa-adf2-46d9-8bb6-144f22b62e44",
   "metadata": {},
   "source": [
    "# 2 JLD (not working for hdf5)"
   ]
  },
  {
   "cell_type": "code",
   "execution_count": 3,
   "id": "3b0432c4-2812-44bf-ad29-f29d4cbb903b",
   "metadata": {},
   "outputs": [
    {
     "name": "stdout",
     "output_type": "stream",
     "text": [
      "  0.624635 seconds (480.16 k allocations: 32.139 MiB, 52.54% compilation time: 71% of which was recompilation)\n"
     ]
    }
   ],
   "source": [
    "@time using JLD"
   ]
  },
  {
   "cell_type": "code",
   "execution_count": 13,
   "id": "949c4e0a-03d9-4f13-82bd-7cd2c1bb67c8",
   "metadata": {
    "collapsed": true,
    "jupyter": {
     "outputs_hidden": true
    },
    "tags": []
   },
   "outputs": [
    {
     "name": "stderr",
     "output_type": "stream",
     "text": [
      "Error encountered while save FileIO.File{FileIO.DataFormat{:HDF5}, String}(\"/mnt/titan01/IVD/projects/LDT/jinxiang/03_zhong_panel/05_build_like_MRD_BG/01_build_datasets/02_allele_file/sample20240318-C-T7-R-20240315-C61_I1.allele.h5\").\n",
      "\n",
      "Fatal error:\n"
     ]
    },
    {
     "ename": "LoadError",
     "evalue": "MethodError: no method matching fileio_save(::FileIO.File{FileIO.DataFormat{:HDF5}, String}, ::DataFrame)\n\n\u001b[0mClosest candidates are:\n\u001b[0m  fileio_save(::FileIO.File{FileIO.DataFormat{:HDF5}}, \u001b[91m::AbstractDict\u001b[39m; track_order, kwargs...)\n\u001b[0m\u001b[90m   @\u001b[39m \u001b[33mHDF5\u001b[39m \u001b[90m~/.julia/packages/HDF5/Z859u/src/\u001b[39m\u001b[90m\u001b[4mfileio.jl:58\u001b[24m\u001b[39m\n\nStacktrace:\n [1] \u001b[0m\u001b[1m#invokelatest#2\u001b[22m\n\u001b[90m   @\u001b[39m \u001b[90m./\u001b[39m\u001b[90m\u001b[4messentials.jl:892\u001b[24m\u001b[39m\u001b[90m [inlined]\u001b[39m\n [2] \u001b[0m\u001b[1minvokelatest\u001b[22m\n\u001b[90m   @\u001b[39m \u001b[90m./\u001b[39m\u001b[90m\u001b[4messentials.jl:889\u001b[24m\u001b[39m\u001b[90m [inlined]\u001b[39m\n [3] \u001b[0m\u001b[1maction\u001b[22m\u001b[0m\u001b[1m(\u001b[22m\u001b[90mcall\u001b[39m::\u001b[0mSymbol, \u001b[90mlibraries\u001b[39m::\u001b[0mVector\u001b[90m{Union{Base.PkgId, Module}}\u001b[39m, \u001b[90mfile\u001b[39m::\u001b[0mFileIO.Formatted, \u001b[90margs\u001b[39m::\u001b[0mDataFrame; \u001b[90moptions\u001b[39m::\u001b[0m@Kwargs\u001b[90m{}\u001b[39m\u001b[0m\u001b[1m)\u001b[22m\n\u001b[90m   @\u001b[39m \u001b[32mFileIO\u001b[39m \u001b[90m~/.julia/packages/FileIO/xOKyx/src/\u001b[39m\u001b[90m\u001b[4mloadsave.jl:219\u001b[24m\u001b[39m\n [4] \u001b[0m\u001b[1maction\u001b[22m\n\u001b[90m   @\u001b[39m \u001b[90m~/.julia/packages/FileIO/xOKyx/src/\u001b[39m\u001b[90m\u001b[4mloadsave.jl:196\u001b[24m\u001b[39m\u001b[90m [inlined]\u001b[39m\n [5] \u001b[0m\u001b[1maction\u001b[22m\n\u001b[90m   @\u001b[39m \u001b[90m~/.julia/packages/FileIO/xOKyx/src/\u001b[39m\u001b[90m\u001b[4mloadsave.jl:185\u001b[24m\u001b[39m\u001b[90m [inlined]\u001b[39m\n [6] \u001b[0m\u001b[1msave\u001b[22m\u001b[0m\u001b[1m(\u001b[22m\u001b[90mfile\u001b[39m::\u001b[0mString, \u001b[90margs\u001b[39m::\u001b[0mDataFrame; \u001b[90moptions\u001b[39m::\u001b[0m@Kwargs\u001b[90m{}\u001b[39m\u001b[0m\u001b[1m)\u001b[22m\n\u001b[90m   @\u001b[39m \u001b[32mFileIO\u001b[39m \u001b[90m~/.julia/packages/FileIO/xOKyx/src/\u001b[39m\u001b[90m\u001b[4mloadsave.jl:129\u001b[24m\u001b[39m\n [7] \u001b[0m\u001b[1msave\u001b[22m\u001b[0m\u001b[1m(\u001b[22m\u001b[90mfile\u001b[39m::\u001b[0mString, \u001b[90margs\u001b[39m::\u001b[0mDataFrame\u001b[0m\u001b[1m)\u001b[22m\n\u001b[90m   @\u001b[39m \u001b[32mFileIO\u001b[39m \u001b[90m~/.julia/packages/FileIO/xOKyx/src/\u001b[39m\u001b[90m\u001b[4mloadsave.jl:125\u001b[24m\u001b[39m\n [8] top-level scope\n\u001b[90m   @\u001b[39m \u001b[90m\u001b[4mIn[13]:3\u001b[24m\u001b[39m",
     "output_type": "error",
     "traceback": [
      "MethodError: no method matching fileio_save(::FileIO.File{FileIO.DataFormat{:HDF5}, String}, ::DataFrame)\n\n\u001b[0mClosest candidates are:\n\u001b[0m  fileio_save(::FileIO.File{FileIO.DataFormat{:HDF5}}, \u001b[91m::AbstractDict\u001b[39m; track_order, kwargs...)\n\u001b[0m\u001b[90m   @\u001b[39m \u001b[33mHDF5\u001b[39m \u001b[90m~/.julia/packages/HDF5/Z859u/src/\u001b[39m\u001b[90m\u001b[4mfileio.jl:58\u001b[24m\u001b[39m\n\nStacktrace:\n [1] \u001b[0m\u001b[1m#invokelatest#2\u001b[22m\n\u001b[90m   @\u001b[39m \u001b[90m./\u001b[39m\u001b[90m\u001b[4messentials.jl:892\u001b[24m\u001b[39m\u001b[90m [inlined]\u001b[39m\n [2] \u001b[0m\u001b[1minvokelatest\u001b[22m\n\u001b[90m   @\u001b[39m \u001b[90m./\u001b[39m\u001b[90m\u001b[4messentials.jl:889\u001b[24m\u001b[39m\u001b[90m [inlined]\u001b[39m\n [3] \u001b[0m\u001b[1maction\u001b[22m\u001b[0m\u001b[1m(\u001b[22m\u001b[90mcall\u001b[39m::\u001b[0mSymbol, \u001b[90mlibraries\u001b[39m::\u001b[0mVector\u001b[90m{Union{Base.PkgId, Module}}\u001b[39m, \u001b[90mfile\u001b[39m::\u001b[0mFileIO.Formatted, \u001b[90margs\u001b[39m::\u001b[0mDataFrame; \u001b[90moptions\u001b[39m::\u001b[0m@Kwargs\u001b[90m{}\u001b[39m\u001b[0m\u001b[1m)\u001b[22m\n\u001b[90m   @\u001b[39m \u001b[32mFileIO\u001b[39m \u001b[90m~/.julia/packages/FileIO/xOKyx/src/\u001b[39m\u001b[90m\u001b[4mloadsave.jl:219\u001b[24m\u001b[39m\n [4] \u001b[0m\u001b[1maction\u001b[22m\n\u001b[90m   @\u001b[39m \u001b[90m~/.julia/packages/FileIO/xOKyx/src/\u001b[39m\u001b[90m\u001b[4mloadsave.jl:196\u001b[24m\u001b[39m\u001b[90m [inlined]\u001b[39m\n [5] \u001b[0m\u001b[1maction\u001b[22m\n\u001b[90m   @\u001b[39m \u001b[90m~/.julia/packages/FileIO/xOKyx/src/\u001b[39m\u001b[90m\u001b[4mloadsave.jl:185\u001b[24m\u001b[39m\u001b[90m [inlined]\u001b[39m\n [6] \u001b[0m\u001b[1msave\u001b[22m\u001b[0m\u001b[1m(\u001b[22m\u001b[90mfile\u001b[39m::\u001b[0mString, \u001b[90margs\u001b[39m::\u001b[0mDataFrame; \u001b[90moptions\u001b[39m::\u001b[0m@Kwargs\u001b[90m{}\u001b[39m\u001b[0m\u001b[1m)\u001b[22m\n\u001b[90m   @\u001b[39m \u001b[32mFileIO\u001b[39m \u001b[90m~/.julia/packages/FileIO/xOKyx/src/\u001b[39m\u001b[90m\u001b[4mloadsave.jl:129\u001b[24m\u001b[39m\n [7] \u001b[0m\u001b[1msave\u001b[22m\u001b[0m\u001b[1m(\u001b[22m\u001b[90mfile\u001b[39m::\u001b[0mString, \u001b[90margs\u001b[39m::\u001b[0mDataFrame\u001b[0m\u001b[1m)\u001b[22m\n\u001b[90m   @\u001b[39m \u001b[32mFileIO\u001b[39m \u001b[90m~/.julia/packages/FileIO/xOKyx/src/\u001b[39m\u001b[90m\u001b[4mloadsave.jl:125\u001b[24m\u001b[39m\n [8] top-level scope\n\u001b[90m   @\u001b[39m \u001b[90m\u001b[4mIn[13]:3\u001b[24m\u001b[39m",
      "",
      "Stacktrace:",
      " [1] handle_error(e::MethodError, q::Base.PkgId, bt::Vector{Union{Ptr{Nothing}, Base.InterpreterIP}})",
      "   @ FileIO ~/.julia/packages/FileIO/xOKyx/src/error_handling.jl:61",
      " [2] handle_exceptions(exceptions::Vector{Tuple{Any, Union{Base.PkgId, Module}, Vector}}, action::String)",
      "   @ FileIO ~/.julia/packages/FileIO/xOKyx/src/error_handling.jl:56",
      " [3] action(call::Symbol, libraries::Vector{Union{Base.PkgId, Module}}, file::FileIO.Formatted, args::DataFrame; options::@Kwargs{})",
      "   @ FileIO ~/.julia/packages/FileIO/xOKyx/src/loadsave.jl:228",
      " [4] action",
      "   @ ~/.julia/packages/FileIO/xOKyx/src/loadsave.jl:196 [inlined]",
      " [5] action",
      "   @ ~/.julia/packages/FileIO/xOKyx/src/loadsave.jl:185 [inlined]",
      " [6] save(file::String, args::DataFrame; options::@Kwargs{})",
      "   @ FileIO ~/.julia/packages/FileIO/xOKyx/src/loadsave.jl:129",
      " [7] save(file::String, args::DataFrame)",
      "   @ FileIO ~/.julia/packages/FileIO/xOKyx/src/loadsave.jl:125",
      " [8] top-level scope",
      "   @ In[13]:3"
     ]
    }
   ],
   "source": [
    "# JLD does not work.\n",
    "#hdf5_path = joinpath(folder_path, \"$(sample_id).allele.h5\");\n",
    "#JLD.save(hdf5_path, df_raw)"
   ]
  },
  {
   "cell_type": "code",
   "execution_count": 12,
   "id": "7deaa907-886f-4c2b-94f1-361d76f748e4",
   "metadata": {
    "collapsed": true,
    "jupyter": {
     "outputs_hidden": true
    },
    "tags": []
   },
   "outputs": [
    {
     "data": {
      "text/latex": [
       "\\begin{itemize}\n",
       "\\item \\texttt{save(filename, data...)} saves the contents of a formatted file, trying to infer the format from \\texttt{filename}.\n",
       "\n",
       "\n",
       "\\item \\texttt{save(Stream\\{format\"PNG\"\\}(io), data...)} specifies the format directly, and bypasses the format \\href{@ref}{\\texttt{query}}.\n",
       "\n",
       "\n",
       "\\item \\texttt{save(File\\{format\"PNG\"\\}(filename), data...)} specifies the format directly, and bypasses the format \\href{@ref}{\\texttt{query}}.\n",
       "\n",
       "\n",
       "\\item \\texttt{save(f, data...; options...)} passes keyword arguments on to the saver.\n",
       "\n",
       "\\end{itemize}\n"
      ],
      "text/markdown": [
       "  * `save(filename, data...)` saves the contents of a formatted file, trying to infer the format from `filename`.\n",
       "  * `save(Stream{format\"PNG\"}(io), data...)` specifies the format directly, and bypasses the format [`query`](@ref).\n",
       "  * `save(File{format\"PNG\"}(filename), data...)` specifies the format directly, and bypasses the format [`query`](@ref).\n",
       "  * `save(f, data...; options...)` passes keyword arguments on to the saver.\n"
      ],
      "text/plain": [
       "    •  \u001b[36msave(filename, data...)\u001b[39m saves the contents of a formatted file,\n",
       "       trying to infer the format from \u001b[36mfilename\u001b[39m.\n",
       "\n",
       "    •  \u001b[36msave(Stream{format\"PNG\"}(io), data...)\u001b[39m specifies the format\n",
       "       directly, and bypasses the format \u001b[36mquery\u001b[39m.\n",
       "\n",
       "    •  \u001b[36msave(File{format\"PNG\"}(filename), data...)\u001b[39m specifies the format\n",
       "       directly, and bypasses the format \u001b[36mquery\u001b[39m.\n",
       "\n",
       "    •  \u001b[36msave(f, data...; options...)\u001b[39m passes keyword arguments on to the\n",
       "       saver."
      ]
     },
     "execution_count": 12,
     "metadata": {},
     "output_type": "execute_result"
    }
   ],
   "source": [
    "?JLD.save"
   ]
  },
  {
   "cell_type": "markdown",
   "id": "70c44947-a102-4eb6-9685-68633bb1b01d",
   "metadata": {},
   "source": [
    "# 3 Parquet.jl"
   ]
  },
  {
   "cell_type": "code",
   "execution_count": 2,
   "id": "f5d75990-4fa3-41d8-8d40-684bc80b7f60",
   "metadata": {},
   "outputs": [
    {
     "name": "stdout",
     "output_type": "stream",
     "text": [
      "  0.349785 seconds (153.01 k allocations: 7.514 MiB)\n"
     ]
    }
   ],
   "source": [
    "@time using Parquet"
   ]
  },
  {
   "cell_type": "markdown",
   "id": "25aa894c-49d4-4d7f-adcf-fe48832a0d4e",
   "metadata": {},
   "source": [
    "## 3.1 Write by Parquet.jl"
   ]
  },
  {
   "cell_type": "code",
   "execution_count": 9,
   "id": "dd453b8d-27e3-45a8-bf1f-69084e9e9a4e",
   "metadata": {},
   "outputs": [
    {
     "name": "stdout",
     "output_type": "stream",
     "text": [
      "  4.284007 seconds (13.23 M allocations: 672.631 MiB, 10.55% gc time, 67.19% compilation time)\n"
     ]
    },
    {
     "data": {
      "text/plain": [
       "4"
      ]
     },
     "execution_count": 9,
     "metadata": {},
     "output_type": "execute_result"
    }
   ],
   "source": [
    "parquet_path = joinpath(folder_path, \"$(sample_id).allele.parquet\");\n",
    "@time Parquet.write_parquet(parquet_path, df_raw)"
   ]
  },
  {
   "cell_type": "code",
   "execution_count": 10,
   "id": "4479b6c9-baec-4249-a428-df46fbc3212d",
   "metadata": {},
   "outputs": [
    {
     "data": {
      "text/latex": [
       "\\begin{verbatim}\n",
       "Write a parquet file from a Tables.jl compatible table e.g DataFrame\n",
       "\\end{verbatim}\n",
       "io                  -   A writable IO stream tbl                 -   A Tables.jl columnaccessible table e.g. a DataFrame compression\\_code    -   Default \"SNAPPY\". The compression codec. The supported                         values are \"UNCOMPRESSED\", \"SNAPPY\", \"ZSTD\", \"GZIP\"\n",
       "\n",
       "\\rule{\\textwidth}{1pt}\n",
       "\\begin{verbatim}\n",
       "Write a parquet file from a Tables.jl compatible table e.g DataFrame\n",
       "\\end{verbatim}\n",
       "path                -   The file path tbl                 -   A Tables.jl columnaccessible table e.g. a DataFrame compression\\_code    -   Default \"SNAPPY\". The compression codec. The supported                         values are \"UNCOMPRESSED\", \"SNAPPY\", \"ZSTD\", \"GZIP\"\n",
       "\n"
      ],
      "text/markdown": [
       "```\n",
       "Write a parquet file from a Tables.jl compatible table e.g DataFrame\n",
       "```\n",
       "\n",
       "io                  -   A writable IO stream tbl                 -   A Tables.jl columnaccessible table e.g. a DataFrame compression_code    -   Default \"SNAPPY\". The compression codec. The supported                         values are \"UNCOMPRESSED\", \"SNAPPY\", \"ZSTD\", \"GZIP\"\n",
       "\n",
       "---\n",
       "\n",
       "```\n",
       "Write a parquet file from a Tables.jl compatible table e.g DataFrame\n",
       "```\n",
       "\n",
       "path                -   The file path tbl                 -   A Tables.jl columnaccessible table e.g. a DataFrame compression_code    -   Default \"SNAPPY\". The compression codec. The supported                         values are \"UNCOMPRESSED\", \"SNAPPY\", \"ZSTD\", \"GZIP\"\n"
      ],
      "text/plain": [
       "\u001b[36m  Write a parquet file from a Tables.jl compatible table e.g DataFrame\u001b[39m\n",
       "\n",
       "  io - A writable IO stream tbl - A Tables.jl columnaccessible table e.g. a\n",
       "  DataFrame compression_code - Default \"SNAPPY\". The compression codec. The\n",
       "  supported values are \"UNCOMPRESSED\", \"SNAPPY\", \"ZSTD\", \"GZIP\"\n",
       "\n",
       "  ────────────────────────────────────────────────────────────────────────────\n",
       "\n",
       "\u001b[36m  Write a parquet file from a Tables.jl compatible table e.g DataFrame\u001b[39m\n",
       "\n",
       "  path - The file path tbl - A Tables.jl columnaccessible table e.g. a\n",
       "  DataFrame compression_code - Default \"SNAPPY\". The compression codec. The\n",
       "  supported values are \"UNCOMPRESSED\", \"SNAPPY\", \"ZSTD\", \"GZIP\""
      ]
     },
     "execution_count": 10,
     "metadata": {},
     "output_type": "execute_result"
    }
   ],
   "source": [
    "?Parquet.write_parquet"
   ]
  },
  {
   "cell_type": "code",
   "execution_count": 46,
   "id": "b93eb482-c507-4f6f-a18e-b3c2724fe27f",
   "metadata": {},
   "outputs": [
    {
     "ename": "LoadError",
     "evalue": "MethodError: no method matching write_parquet(::String, ::DataFrame; compression_code::String)\n\n\u001b[0mClosest candidates are:\n\u001b[0m  write_parquet(::Any, ::Any; compression_codec)\u001b[91m got unsupported keyword argument \"compression_code\"\u001b[39m\n\u001b[0m\u001b[90m   @\u001b[39m \u001b[35mParquet\u001b[39m \u001b[90m~/.julia/packages/Parquet/6tj1X/src/\u001b[39m\u001b[90m\u001b[4mwriter.jl:524\u001b[24m\u001b[39m\n\u001b[0m  write_parquet(\u001b[91m::IO\u001b[39m, ::Any; compression_codec)\u001b[91m got unsupported keyword argument \"compression_code\"\u001b[39m\n\u001b[0m\u001b[90m   @\u001b[39m \u001b[35mParquet\u001b[39m \u001b[90m~/.julia/packages/Parquet/6tj1X/src/\u001b[39m\u001b[90m\u001b[4mwriter.jl:460\u001b[24m\u001b[39m\n",
     "output_type": "error",
     "traceback": [
      "MethodError: no method matching write_parquet(::String, ::DataFrame; compression_code::String)\n\n\u001b[0mClosest candidates are:\n\u001b[0m  write_parquet(::Any, ::Any; compression_codec)\u001b[91m got unsupported keyword argument \"compression_code\"\u001b[39m\n\u001b[0m\u001b[90m   @\u001b[39m \u001b[35mParquet\u001b[39m \u001b[90m~/.julia/packages/Parquet/6tj1X/src/\u001b[39m\u001b[90m\u001b[4mwriter.jl:524\u001b[24m\u001b[39m\n\u001b[0m  write_parquet(\u001b[91m::IO\u001b[39m, ::Any; compression_codec)\u001b[91m got unsupported keyword argument \"compression_code\"\u001b[39m\n\u001b[0m\u001b[90m   @\u001b[39m \u001b[35mParquet\u001b[39m \u001b[90m~/.julia/packages/Parquet/6tj1X/src/\u001b[39m\u001b[90m\u001b[4mwriter.jl:460\u001b[24m\u001b[39m\n",
      "",
      "Stacktrace:",
      " [1] kwerr(::@NamedTuple{compression_code::String}, ::Function, ::String, ::DataFrame)",
      "   @ Base ./error.jl:165",
      " [2] macro expansion",
      "   @ ./timing.jl:279 [inlined]",
      " [3] top-level scope",
      "   @ ./In[46]:1"
     ]
    }
   ],
   "source": [
    "@time Parquet.write_parquet(joinpath(folder_path, \"$(sample_id).allele.zstd.parquet\"), \n",
    "    df_raw, compression_code=\"zstd\")"
   ]
  },
  {
   "cell_type": "markdown",
   "id": "9fb879d2-8a7e-49c9-a888-97036331266f",
   "metadata": {},
   "source": [
    "## 3.2 Read a parquet file"
   ]
  },
  {
   "cell_type": "code",
   "execution_count": 56,
   "id": "6b7002c9-6834-4f29-9873-588878cdcd2b",
   "metadata": {},
   "outputs": [
    {
     "name": "stdout",
     "output_type": "stream",
     "text": [
      "  0.005970 seconds (1.10 k allocations: 44.578 KiB)\n",
      "typeof(pq_ds) = Parquet.Table\n",
      "Tables.schema(pq_ds) = Tables.Schema:\n",
      " :chrom          Union{Missing, String}\n",
      " :pos_raw        Union{Missing, Int32}\n",
      " :ref            Union{Missing, String}\n",
      " :context        Union{Missing, String}\n",
      " :alt            Union{Missing, String}\n",
      " :support_reads  Union{Missing, Int32}\n",
      " :depth          Union{Missing, Int32}\n",
      " :freq           Union{Missing, Float32}\n",
      "  0.016040 seconds (2.81 k allocations: 1.598 MiB)\n",
      " 27.583395 seconds (23.31 M allocations: 1.426 GiB, 95.38% gc time, 0.06% compilation time)\n"
     ]
    },
    {
     "data": {
      "text/html": [
       "<div><div style = \"float: left;\"><span>3×8 DataFrame</span></div><div style = \"clear: both;\"></div></div><div class = \"data-frame\" style = \"overflow-x: scroll;\"><table class = \"data-frame\" style = \"margin-bottom: 6px;\"><thead><tr class = \"header\"><th class = \"rowNumber\" style = \"font-weight: bold; text-align: right;\">Row</th><th style = \"text-align: left;\">chrom</th><th style = \"text-align: left;\">pos_raw</th><th style = \"text-align: left;\">ref</th><th style = \"text-align: left;\">context</th><th style = \"text-align: left;\">alt</th><th style = \"text-align: left;\">support_reads</th><th style = \"text-align: left;\">depth</th><th style = \"text-align: left;\">freq</th></tr><tr class = \"subheader headerLastRow\"><th class = \"rowNumber\" style = \"font-weight: bold; text-align: right;\"></th><th title = \"Union{Missing, String}\" style = \"text-align: left;\">String?</th><th title = \"Union{Missing, Int32}\" style = \"text-align: left;\">Int32?</th><th title = \"Union{Missing, String}\" style = \"text-align: left;\">String?</th><th title = \"Union{Missing, String}\" style = \"text-align: left;\">String?</th><th title = \"Union{Missing, String}\" style = \"text-align: left;\">String?</th><th title = \"Union{Missing, Int32}\" style = \"text-align: left;\">Int32?</th><th title = \"Union{Missing, Int32}\" style = \"text-align: left;\">Int32?</th><th title = \"Union{Missing, Float32}\" style = \"text-align: left;\">Float32?</th></tr></thead><tbody><tr><td class = \"rowNumber\" style = \"font-weight: bold; text-align: right;\">1</td><td style = \"text-align: left;\">chr1</td><td style = \"text-align: right;\">11168282</td><td style = \"text-align: left;\">T</td><td style = \"text-align: left;\">GTT</td><td style = \"text-align: left;\">T</td><td style = \"text-align: right;\">365</td><td style = \"text-align: right;\">365</td><td style = \"text-align: right;\">1.0</td></tr><tr><td class = \"rowNumber\" style = \"font-weight: bold; text-align: right;\">2</td><td style = \"text-align: left;\">chr1</td><td style = \"text-align: right;\">11168282</td><td style = \"text-align: left;\">T</td><td style = \"text-align: left;\">GTT</td><td style = \"text-align: left;\">C</td><td style = \"text-align: right;\">0</td><td style = \"text-align: right;\">365</td><td style = \"text-align: right;\">0.0</td></tr><tr><td class = \"rowNumber\" style = \"font-weight: bold; text-align: right;\">3</td><td style = \"text-align: left;\">chr1</td><td style = \"text-align: right;\">11168282</td><td style = \"text-align: left;\">T</td><td style = \"text-align: left;\">GTT</td><td style = \"text-align: left;\">G</td><td style = \"text-align: right;\">0</td><td style = \"text-align: right;\">365</td><td style = \"text-align: right;\">0.0</td></tr></tbody></table></div>"
      ],
      "text/latex": [
       "\\begin{tabular}{r|cccccccc}\n",
       "\t& chrom & pos\\_raw & ref & context & alt & support\\_reads & depth & freq\\\\\n",
       "\t\\hline\n",
       "\t& String? & Int32? & String? & String? & String? & Int32? & Int32? & Float32?\\\\\n",
       "\t\\hline\n",
       "\t1 & chr1 & 11168282 & T & GTT & T & 365 & 365 & 1.0 \\\\\n",
       "\t2 & chr1 & 11168282 & T & GTT & C & 0 & 365 & 0.0 \\\\\n",
       "\t3 & chr1 & 11168282 & T & GTT & G & 0 & 365 & 0.0 \\\\\n",
       "\\end{tabular}\n"
      ],
      "text/plain": [
       "\u001b[1m3×8 DataFrame\u001b[0m\n",
       "\u001b[1m Row \u001b[0m│\u001b[1m chrom   \u001b[0m\u001b[1m pos_raw  \u001b[0m\u001b[1m ref     \u001b[0m\u001b[1m context \u001b[0m\u001b[1m alt     \u001b[0m\u001b[1m support_reads \u001b[0m\u001b[1m depth  \u001b[0m\u001b[1m fr\u001b[0m ⋯\n",
       "     │\u001b[90m String? \u001b[0m\u001b[90m Int32?   \u001b[0m\u001b[90m String? \u001b[0m\u001b[90m String? \u001b[0m\u001b[90m String? \u001b[0m\u001b[90m Int32?        \u001b[0m\u001b[90m Int32? \u001b[0m\u001b[90m Fl\u001b[0m ⋯\n",
       "─────┼──────────────────────────────────────────────────────────────────────────\n",
       "   1 │ chr1     11168282  T        GTT      T                  365     365     ⋯\n",
       "   2 │ chr1     11168282  T        GTT      C                    0     365\n",
       "   3 │ chr1     11168282  T        GTT      G                    0     365\n",
       "\u001b[36m                                                                1 column omitted\u001b[0m"
      ]
     },
     "execution_count": 56,
     "metadata": {},
     "output_type": "execute_result"
    }
   ],
   "source": [
    "@time pq_ds = Parquet.read_parquet(parquet_path)\n",
    "@show typeof(pq_ds)\n",
    "@time @show Tables.schema(pq_ds)  # view table schema\n",
    "@time df_parquet = DataFrame(pq_ds)\n",
    "first(df_parquet, 3)"
   ]
  },
  {
   "cell_type": "code",
   "execution_count": 53,
   "id": "9064011d-8632-488a-9f38-2eb5db2dc105",
   "metadata": {},
   "outputs": [
    {
     "name": "stdout",
     "output_type": "stream",
     "text": [
      " 49.651417 seconds (46.60 M allocations: 1.539 GiB, 7.72% gc time)\n"
     ]
    },
    {
     "data": {
      "text/plain": [
       "272344192"
      ]
     },
     "execution_count": 53,
     "metadata": {},
     "output_type": "execute_result"
    }
   ],
   "source": [
    "@time Base.summarysize(df_parquet)"
   ]
  },
  {
   "cell_type": "markdown",
   "id": "fbc10edd-6412-4fdc-b2ef-475ffb7ef1f0",
   "metadata": {},
   "source": [
    "# 4 Parquet2.jl"
   ]
  },
  {
   "cell_type": "markdown",
   "id": "05c083a2-d893-40bd-888c-db0b17129115",
   "metadata": {},
   "source": [
    "## 4.1 Write a Parquet2 file"
   ]
  },
  {
   "cell_type": "code",
   "execution_count": 14,
   "id": "51d605b2-5adf-4a1d-8956-3840628d5099",
   "metadata": {},
   "outputs": [],
   "source": [
    "using Parquet2, Tables, DataFrames"
   ]
  },
  {
   "cell_type": "code",
   "execution_count": 69,
   "id": "0bc06c8c-1810-46f2-99c7-0f68ceab1b6d",
   "metadata": {
    "collapsed": true,
    "jupyter": {
     "outputs_hidden": true
    },
    "tags": []
   },
   "outputs": [
    {
     "ename": "LoadError",
     "evalue": "ArgumentError: type Char does not have a corresponding parquet type",
     "output_type": "error",
     "traceback": [
      "ArgumentError: type Char does not have a corresponding parquet type",
      "",
      "Stacktrace:",
      "  [1] parqtype(t::Type; decimal_scale::Int64, decimal_precision::Int64, bson::Bool)",
      "    @ Parquet2 ~/.julia/packages/Parquet2/ZssLg/src/schema.jl:292",
      "  [2] parqtype(t::Type)",
      "    @ Parquet2 ~/.julia/packages/Parquet2/ZssLg/src/schema.jl:233",
      "  [3] default_determine_type(v::Vector{Char})",
      "    @ Parquet2 ~/.julia/packages/Parquet2/ZssLg/src/write.jl:473",
      "  [4] _written_coltype(opts::Parquet2.WriteOptions, name::String, t::Type{Char}, v::Vector{Char})",
      "    @ Parquet2 ~/.julia/packages/Parquet2/ZssLg/src/write.jl:758",
      "  [5] writetable!(fw::Parquet2.FileWriter{IOStream}, tbl::Any)",
      "    @ Parquet2 ~/.julia/packages/Parquet2/ZssLg/src/write.jl:820",
      "  [6] writeiterable!(fw::Parquet2.FileWriter{IOStream}, tbls::Any)",
      "    @ Parquet2 ~/.julia/packages/Parquet2/ZssLg/src/write.jl:875",
      "  [7] writefile!(fw::Parquet2.FileWriter{IOStream}, tbl::Any)",
      "    @ Parquet2 ~/.julia/packages/Parquet2/ZssLg/src/write.jl:888",
      "  [8] #writefile#177",
      "    @ ~/.julia/packages/Parquet2/ZssLg/src/write.jl:903 [inlined]",
      "  [9] writefile",
      "    @ ~/.julia/packages/Parquet2/ZssLg/src/write.jl:901 [inlined]",
      " [10] #writefile#180",
      "    @ ~/.julia/packages/Parquet2/ZssLg/src/write.jl:910 [inlined]",
      " [11] writefile(path::String, tbl::Any)",
      "    @ Parquet2 ~/.julia/packages/Parquet2/ZssLg/src/write.jl:908",
      " [12] macro expansion",
      "    @ ./timing.jl:279 [inlined]",
      " [13] top-level scope",
      "    @ ./In[69]:2"
     ]
    }
   ],
   "source": [
    "parquet2_path = joinpath(folder_path, \"$(sample_id).allele.parquet2\");\n",
    "@time Parquet2.writefile(parquet2_path, df_raw)"
   ]
  },
  {
   "cell_type": "code",
   "execution_count": 41,
   "id": "c53a2998-5d1f-49c7-a101-7832f7a7d7ea",
   "metadata": {
    "tags": []
   },
   "outputs": [
    {
     "data": {
      "text/latex": [
       "\\begin{verbatim}\n",
       "writefile(io::IO, path, tbl; kw...)\n",
       "writefile(path, tbl; kw...)\n",
       "\\end{verbatim}\n",
       "Write the Tables.jl compatible table \\texttt{tbl} to the \\texttt{IO} or the file at \\texttt{path}.  Note that the path is used in parquet metadata, which is why it is possible to specify the path separately from the \\texttt{io} stream.  See \\href{@ref}{\\texttt{FileWriter}} for a description of all possible arguments.\n",
       "\n",
       "This function writes a file all in one call.  Files will be written as one parquet row group per table partition. An intermediate \\href{@ref}{\\texttt{FileWriter}} object is used.\n",
       "\n"
      ],
      "text/markdown": [
       "```\n",
       "writefile(io::IO, path, tbl; kw...)\n",
       "writefile(path, tbl; kw...)\n",
       "```\n",
       "\n",
       "Write the Tables.jl compatible table `tbl` to the `IO` or the file at `path`.  Note that the path is used in parquet metadata, which is why it is possible to specify the path separately from the `io` stream.  See [`FileWriter`](@ref) for a description of all possible arguments.\n",
       "\n",
       "This function writes a file all in one call.  Files will be written as one parquet row group per table partition. An intermediate [`FileWriter`](@ref) object is used.\n"
      ],
      "text/plain": [
       "\u001b[36m  writefile(io::IO, path, tbl; kw...)\u001b[39m\n",
       "\u001b[36m  writefile(path, tbl; kw...)\u001b[39m\n",
       "\n",
       "  Write the Tables.jl compatible table \u001b[36mtbl\u001b[39m to the \u001b[36mIO\u001b[39m or the file at \u001b[36mpath\u001b[39m. Note\n",
       "  that the path is used in parquet metadata, which is why it is possible to\n",
       "  specify the path separately from the \u001b[36mio\u001b[39m stream. See \u001b[36mFileWriter\u001b[39m for a\n",
       "  description of all possible arguments.\n",
       "\n",
       "  This function writes a file all in one call. Files will be written as one\n",
       "  parquet row group per table partition. An intermediate \u001b[36mFileWriter\u001b[39m object is\n",
       "  used."
      ]
     },
     "execution_count": 41,
     "metadata": {},
     "output_type": "execute_result"
    }
   ],
   "source": [
    "?Parquet2.writefile"
   ]
  },
  {
   "cell_type": "code",
   "execution_count": 49,
   "id": "c2a93b52-e2fc-4766-982e-a2c4011af0d2",
   "metadata": {},
   "outputs": [
    {
     "ename": "LoadError",
     "evalue": "ArgumentError: \"compress\" is an invalid keyword argument for Parquet2.WriteOptions",
     "output_type": "error",
     "traceback": [
      "ArgumentError: \"compress\" is an invalid keyword argument for Parquet2.WriteOptions",
      "",
      "Stacktrace:",
      "  [1] validatekeywords(::Type{Parquet2.WriteOptions}, kw::@Kwargs{compress::Symbol})",
      "    @ Parquet2 ~/.julia/packages/Parquet2/ZssLg/src/options.jl:32",
      "  [2] Parquet2.WriteOptions(; kw::@Kwargs{compress::Symbol})",
      "    @ Parquet2 ~/.julia/packages/Parquet2/ZssLg/src/options.jl:221",
      "  [3] WriteOptions",
      "    @ ~/.julia/packages/Parquet2/ZssLg/src/options.jl:220 [inlined]",
      "  [4] Parquet2.FileWriter(io::IOStream, path::String; kw::@Kwargs{compress::Symbol})",
      "    @ Parquet2 ~/.julia/packages/Parquet2/ZssLg/src/write.jl:733",
      "  [5] FileWriter",
      "    @ ~/.julia/packages/Parquet2/ZssLg/src/write.jl:732 [inlined]",
      "  [6] #writefile#177",
      "    @ ~/.julia/packages/Parquet2/ZssLg/src/write.jl:902 [inlined]",
      "  [7] writefile",
      "    @ ~/.julia/packages/Parquet2/ZssLg/src/write.jl:901 [inlined]",
      "  [8] #writefile#180",
      "    @ ~/.julia/packages/Parquet2/ZssLg/src/write.jl:910 [inlined]",
      "  [9] macro expansion",
      "    @ ./timing.jl:279 [inlined]",
      " [10] top-level scope",
      "    @ ./In[49]:1"
     ]
    }
   ],
   "source": [
    "@time Parquet2.writefile(joinpath(folder_path, \"$(sample_id).allele.zstd.parquet2\"), \n",
    "    df_raw, compress=:zstd)"
   ]
  },
  {
   "cell_type": "markdown",
   "id": "20501f24-11fd-412b-8f8a-b73649d037be",
   "metadata": {},
   "source": [
    "## 4.2 Parquet2 reads a file created by Parquet.jl"
   ]
  },
  {
   "cell_type": "code",
   "execution_count": 57,
   "id": "e82ae88f-be57-4c46-ac9e-d4659c3bdea7",
   "metadata": {
    "tags": []
   },
   "outputs": [
    {
     "name": "stdout",
     "output_type": "stream",
     "text": [
      "  0.000798 seconds (1.45 k allocations: 110.469 KiB)\n",
      "Tables.schema(ds) = Tables.Schema:\n",
      " :chrom          Union{Missing, String}\n",
      " :pos_raw        Union{Missing, Int32}\n",
      " :ref            Union{Missing, String}\n",
      " :context        Union{Missing, String}\n",
      " :alt            Union{Missing, String}\n",
      " :support_reads  Union{Missing, Int32}\n",
      " :depth          Union{Missing, Int32}\n",
      " :freq           Union{Missing, Float32}\n",
      "  0.015601 seconds (2.96 k allocations: 1.609 MiB)\n",
      " 11.434261 seconds (11.65 M allocations: 663.215 MiB, 92.63% gc time)\n",
      "  5.111808 seconds (11.65 M allocations: 663.222 MiB, 82.72% gc time)\n"
     ]
    },
    {
     "data": {
      "text/html": [
       "<div><div style = \"float: left;\"><span>3×8 DataFrame</span></div><div style = \"clear: both;\"></div></div><div class = \"data-frame\" style = \"overflow-x: scroll;\"><table class = \"data-frame\" style = \"margin-bottom: 6px;\"><thead><tr class = \"header\"><th class = \"rowNumber\" style = \"font-weight: bold; text-align: right;\">Row</th><th style = \"text-align: left;\">chrom</th><th style = \"text-align: left;\">pos_raw</th><th style = \"text-align: left;\">ref</th><th style = \"text-align: left;\">context</th><th style = \"text-align: left;\">alt</th><th style = \"text-align: left;\">support_reads</th><th style = \"text-align: left;\">depth</th><th style = \"text-align: left;\">freq</th></tr><tr class = \"subheader headerLastRow\"><th class = \"rowNumber\" style = \"font-weight: bold; text-align: right;\"></th><th title = \"Union{Missing, String}\" style = \"text-align: left;\">String?</th><th title = \"Union{Missing, Int32}\" style = \"text-align: left;\">Int32?</th><th title = \"Union{Missing, String}\" style = \"text-align: left;\">String?</th><th title = \"Union{Missing, String}\" style = \"text-align: left;\">String?</th><th title = \"Union{Missing, String}\" style = \"text-align: left;\">String?</th><th title = \"Union{Missing, Int32}\" style = \"text-align: left;\">Int32?</th><th title = \"Union{Missing, Int32}\" style = \"text-align: left;\">Int32?</th><th title = \"Union{Missing, Float32}\" style = \"text-align: left;\">Float32?</th></tr></thead><tbody><tr><td class = \"rowNumber\" style = \"font-weight: bold; text-align: right;\">1</td><td style = \"text-align: left;\">chr1</td><td style = \"text-align: right;\">11168282</td><td style = \"text-align: left;\">T</td><td style = \"text-align: left;\">GTT</td><td style = \"text-align: left;\">T</td><td style = \"text-align: right;\">365</td><td style = \"text-align: right;\">365</td><td style = \"text-align: right;\">1.0</td></tr><tr><td class = \"rowNumber\" style = \"font-weight: bold; text-align: right;\">2</td><td style = \"text-align: left;\">chr1</td><td style = \"text-align: right;\">11168282</td><td style = \"text-align: left;\">T</td><td style = \"text-align: left;\">GTT</td><td style = \"text-align: left;\">C</td><td style = \"text-align: right;\">0</td><td style = \"text-align: right;\">365</td><td style = \"text-align: right;\">0.0</td></tr><tr><td class = \"rowNumber\" style = \"font-weight: bold; text-align: right;\">3</td><td style = \"text-align: left;\">chr1</td><td style = \"text-align: right;\">11168282</td><td style = \"text-align: left;\">T</td><td style = \"text-align: left;\">GTT</td><td style = \"text-align: left;\">G</td><td style = \"text-align: right;\">0</td><td style = \"text-align: right;\">365</td><td style = \"text-align: right;\">0.0</td></tr></tbody></table></div>"
      ],
      "text/latex": [
       "\\begin{tabular}{r|cccccccc}\n",
       "\t& chrom & pos\\_raw & ref & context & alt & support\\_reads & depth & freq\\\\\n",
       "\t\\hline\n",
       "\t& String? & Int32? & String? & String? & String? & Int32? & Int32? & Float32?\\\\\n",
       "\t\\hline\n",
       "\t1 & chr1 & 11168282 & T & GTT & T & 365 & 365 & 1.0 \\\\\n",
       "\t2 & chr1 & 11168282 & T & GTT & C & 0 & 365 & 0.0 \\\\\n",
       "\t3 & chr1 & 11168282 & T & GTT & G & 0 & 365 & 0.0 \\\\\n",
       "\\end{tabular}\n"
      ],
      "text/plain": [
       "\u001b[1m3×8 DataFrame\u001b[0m\n",
       "\u001b[1m Row \u001b[0m│\u001b[1m chrom   \u001b[0m\u001b[1m pos_raw  \u001b[0m\u001b[1m ref     \u001b[0m\u001b[1m context \u001b[0m\u001b[1m alt     \u001b[0m\u001b[1m support_reads \u001b[0m\u001b[1m depth  \u001b[0m\u001b[1m fr\u001b[0m ⋯\n",
       "     │\u001b[90m String? \u001b[0m\u001b[90m Int32?   \u001b[0m\u001b[90m String? \u001b[0m\u001b[90m String? \u001b[0m\u001b[90m String? \u001b[0m\u001b[90m Int32?        \u001b[0m\u001b[90m Int32? \u001b[0m\u001b[90m Fl\u001b[0m ⋯\n",
       "─────┼──────────────────────────────────────────────────────────────────────────\n",
       "   1 │ chr1     11168282  T        GTT      T                  365     365     ⋯\n",
       "   2 │ chr1     11168282  T        GTT      C                    0     365\n",
       "   3 │ chr1     11168282  T        GTT      G                    0     365\n",
       "\u001b[36m                                                                1 column omitted\u001b[0m"
      ]
     },
     "execution_count": 57,
     "metadata": {},
     "output_type": "execute_result"
    }
   ],
   "source": [
    "@time ds = Parquet2.Dataset(parquet_path)\n",
    "@time @show Tables.schema(ds)  # view table schema\n",
    "@time t = Tables.columntable(ds)  # load as a NamedTuple of columns\n",
    "@time df = DataFrame(ds; copycols=false)  # load entire dataset as a DataFrame\n",
    "first(df, 3)\n",
    "#df1 = DataFrame(ds[1]; copycols=false)  # load first RowGroup as a DataFrame"
   ]
  },
  {
   "cell_type": "code",
   "execution_count": 30,
   "id": "60bdffbe-b620-41ed-a643-34d02af9d4b2",
   "metadata": {},
   "outputs": [
    {
     "name": "stdout",
     "output_type": "stream",
     "text": [
      "Base.summarysize(t) = 272343528\n",
      " 46.959012 seconds (46.60 M allocations: 1.539 GiB, 5.48% gc time)\n",
      "Base.summarysize(df) = 272344192\n",
      " 46.709742 seconds (46.60 M allocations: 1.539 GiB, 8.90% gc time)\n"
     ]
    },
    {
     "data": {
      "text/plain": [
       "272344192"
      ]
     },
     "execution_count": 30,
     "metadata": {},
     "output_type": "execute_result"
    }
   ],
   "source": [
    "#not sure why this operation takes so long for data structures\n",
    "#  created by Parquet2.jl from files generated by Parquet.jl.\n",
    "@time @show Base.summarysize(t)\n",
    "@time @show Base.summarysize(df)"
   ]
  },
  {
   "cell_type": "code",
   "execution_count": 22,
   "id": "81ce6f08-c268-4292-a4d6-92ae9386bc6f",
   "metadata": {},
   "outputs": [
    {
     "name": "stdout",
     "output_type": "stream",
     "text": [
      "sch = Tables.Schema:\n",
      " :chrom          Union{Missing, String}\n",
      " :pos_raw        Union{Missing, Int32}\n",
      " :ref            Union{Missing, String}\n",
      " :context        Union{Missing, String}\n",
      " :alt            Union{Missing, String}\n",
      " :support_reads  Union{Missing, Int32}\n",
      " :depth          Union{Missing, Int32}\n",
      " :freq           Union{Missing, Float32}\n",
      "typeof(t) = @NamedTuple{chrom::Vector{Union{Missing, String}}, pos_raw::Vector{Union{Missing, Int32}}, ref::Vector{Union{Missing, String}}, context::Vector{Union{Missing, String}}, alt::Vector{Union{Missing, String}}, support_reads::Vector{Union{Missing, Int32}}, depth::Vector{Union{Missing, Int32}}, freq::Vector{Union{Missing, Float32}}}\n"
     ]
    },
    {
     "data": {
      "text/plain": [
       "@NamedTuple{chrom::Vector{Union{Missing, String}}, pos_raw::Vector{Union{Missing, Int32}}, ref::Vector{Union{Missing, String}}, context::Vector{Union{Missing, String}}, alt::Vector{Union{Missing, String}}, support_reads::Vector{Union{Missing, Int32}}, depth::Vector{Union{Missing, Int32}}, freq::Vector{Union{Missing, Float32}}}"
      ]
     },
     "execution_count": 22,
     "metadata": {},
     "output_type": "execute_result"
    }
   ],
   "source": [
    "@show typeof(t)"
   ]
  },
  {
   "cell_type": "markdown",
   "id": "d8b4066c-ed81-43ce-9775-cb5f1d899645",
   "metadata": {},
   "source": [
    "## 4.3 Parquet2 reads a file created by itself"
   ]
  },
  {
   "cell_type": "code",
   "execution_count": 58,
   "id": "8c812d72-62fc-4bce-99d5-70d7233f52f4",
   "metadata": {},
   "outputs": [
    {
     "name": "stdout",
     "output_type": "stream",
     "text": [
      "  0.004855 seconds (1.48 k allocations: 111.875 KiB)\n",
      "typeof(ds2) = Parquet2.Dataset{Parquet2.FileManager{FilePathsBase.PosixPath}}\n",
      "Tables.schema(ds2) = Tables.Schema:\n",
      " :chrom          String\n",
      " :pos_raw        Int32\n",
      " :ref            String\n",
      " :context        String\n",
      " :alt            String\n",
      " :support_reads  Int32\n",
      " :depth          Int32\n",
      " :freq           Float32\n",
      "  0.000325 seconds (696 allocations: 38.570 KiB)\n",
      "  7.241007 seconds (841 allocations: 201.789 MiB, 92.07% gc time)\n",
      "  6.982388 seconds (967 allocations: 201.797 MiB, 91.90% gc time)\n"
     ]
    },
    {
     "data": {
      "text/html": [
       "<div><div style = \"float: left;\"><span>3×8 DataFrame</span></div><div style = \"clear: both;\"></div></div><div class = \"data-frame\" style = \"overflow-x: scroll;\"><table class = \"data-frame\" style = \"margin-bottom: 6px;\"><thead><tr class = \"header\"><th class = \"rowNumber\" style = \"font-weight: bold; text-align: right;\">Row</th><th style = \"text-align: left;\">chrom</th><th style = \"text-align: left;\">pos_raw</th><th style = \"text-align: left;\">ref</th><th style = \"text-align: left;\">context</th><th style = \"text-align: left;\">alt</th><th style = \"text-align: left;\">support_reads</th><th style = \"text-align: left;\">depth</th><th style = \"text-align: left;\">freq</th></tr><tr class = \"subheader headerLastRow\"><th class = \"rowNumber\" style = \"font-weight: bold; text-align: right;\"></th><th title = \"String\" style = \"text-align: left;\">String</th><th title = \"Int32\" style = \"text-align: left;\">Int32</th><th title = \"String\" style = \"text-align: left;\">String</th><th title = \"String\" style = \"text-align: left;\">String</th><th title = \"String\" style = \"text-align: left;\">String</th><th title = \"Int32\" style = \"text-align: left;\">Int32</th><th title = \"Int32\" style = \"text-align: left;\">Int32</th><th title = \"Float32\" style = \"text-align: left;\">Float32</th></tr></thead><tbody><tr><td class = \"rowNumber\" style = \"font-weight: bold; text-align: right;\">1</td><td style = \"text-align: left;\">chr1</td><td style = \"text-align: right;\">11168282</td><td style = \"text-align: left;\">T</td><td style = \"text-align: left;\">GTT</td><td style = \"text-align: left;\">T</td><td style = \"text-align: right;\">365</td><td style = \"text-align: right;\">365</td><td style = \"text-align: right;\">1.0</td></tr><tr><td class = \"rowNumber\" style = \"font-weight: bold; text-align: right;\">2</td><td style = \"text-align: left;\">chr1</td><td style = \"text-align: right;\">11168282</td><td style = \"text-align: left;\">T</td><td style = \"text-align: left;\">GTT</td><td style = \"text-align: left;\">C</td><td style = \"text-align: right;\">0</td><td style = \"text-align: right;\">365</td><td style = \"text-align: right;\">0.0</td></tr><tr><td class = \"rowNumber\" style = \"font-weight: bold; text-align: right;\">3</td><td style = \"text-align: left;\">chr1</td><td style = \"text-align: right;\">11168282</td><td style = \"text-align: left;\">T</td><td style = \"text-align: left;\">GTT</td><td style = \"text-align: left;\">G</td><td style = \"text-align: right;\">0</td><td style = \"text-align: right;\">365</td><td style = \"text-align: right;\">0.0</td></tr></tbody></table></div>"
      ],
      "text/latex": [
       "\\begin{tabular}{r|cccccccc}\n",
       "\t& chrom & pos\\_raw & ref & context & alt & support\\_reads & depth & freq\\\\\n",
       "\t\\hline\n",
       "\t& String & Int32 & String & String & String & Int32 & Int32 & Float32\\\\\n",
       "\t\\hline\n",
       "\t1 & chr1 & 11168282 & T & GTT & T & 365 & 365 & 1.0 \\\\\n",
       "\t2 & chr1 & 11168282 & T & GTT & C & 0 & 365 & 0.0 \\\\\n",
       "\t3 & chr1 & 11168282 & T & GTT & G & 0 & 365 & 0.0 \\\\\n",
       "\\end{tabular}\n"
      ],
      "text/plain": [
       "\u001b[1m3×8 DataFrame\u001b[0m\n",
       "\u001b[1m Row \u001b[0m│\u001b[1m chrom  \u001b[0m\u001b[1m pos_raw  \u001b[0m\u001b[1m ref    \u001b[0m\u001b[1m context \u001b[0m\u001b[1m alt    \u001b[0m\u001b[1m support_reads \u001b[0m\u001b[1m depth \u001b[0m\u001b[1m freq  \u001b[0m ⋯\n",
       "     │\u001b[90m String \u001b[0m\u001b[90m Int32    \u001b[0m\u001b[90m String \u001b[0m\u001b[90m String  \u001b[0m\u001b[90m String \u001b[0m\u001b[90m Int32         \u001b[0m\u001b[90m Int32 \u001b[0m\u001b[90m Float3\u001b[0m ⋯\n",
       "─────┼──────────────────────────────────────────────────────────────────────────\n",
       "   1 │ chr1    11168282  T       GTT      T                 365    365      1. ⋯\n",
       "   2 │ chr1    11168282  T       GTT      C                   0    365      0.\n",
       "   3 │ chr1    11168282  T       GTT      G                   0    365      0.\n",
       "\u001b[36m                                                                1 column omitted\u001b[0m"
      ]
     },
     "execution_count": 58,
     "metadata": {},
     "output_type": "execute_result"
    }
   ],
   "source": [
    "@time ds2 = Parquet2.Dataset(parquet2_path)\n",
    "@show typeof(ds2)\n",
    "@time @show Tables.schema(ds2)  # view table schema\n",
    "@time t2 = Tables.columntable(ds2)  # load as a NamedTuple of columns\n",
    "@time df2 = DataFrame(ds2; copycols=false)  # load entire dataset as a DataFrame\n",
    "first(df2,3)\n",
    "#df1 = DataFrame(ds[1]; copycols=false)  # load first RowGroup as a DataFrame"
   ]
  },
  {
   "cell_type": "code",
   "execution_count": 59,
   "id": "b28b1cd8-b2d1-403a-b40f-3854afe29c89",
   "metadata": {},
   "outputs": [
    {
     "name": "stdout",
     "output_type": "stream",
     "text": [
      "Base.summarysize(t2) = 93215285\n",
      "  0.000172 seconds (404 allocations: 18.578 KiB)\n",
      "Base.summarysize(df2) = 93215917\n",
      "  0.000151 seconds (422 allocations: 19.391 KiB)\n"
     ]
    },
    {
     "data": {
      "text/plain": [
       "93215917"
      ]
     },
     "execution_count": 59,
     "metadata": {},
     "output_type": "execute_result"
    }
   ],
   "source": [
    "@time @show Base.summarysize(t2)\n",
    "@time @show Base.summarysize(df2)"
   ]
  },
  {
   "cell_type": "markdown",
   "id": "d48d745c-c004-4fd7-9997-af66d836f925",
   "metadata": {},
   "source": [
    "## 4.4 Convert all PanelM's txt files to parquet"
   ]
  },
  {
   "cell_type": "code",
   "execution_count": 64,
   "id": "75d6f739-f8e7-4bed-bf33-e88a34784b99",
   "metadata": {},
   "outputs": [
    {
     "data": {
      "text/plain": [
       "convert_tsv_files_to_parquet"
      ]
     },
     "execution_count": 64,
     "metadata": {},
     "output_type": "execute_result"
    }
   ],
   "source": [
    "# DocStringExtensions provides $(SIGNATURES)\n",
    "using DocStringExtensions\n",
    "\"\"\"\n",
    "Convert all \".txt\" files in the folder into .parquet via Parquet2.jl\n",
    "\n",
    "$(SIGNATURES)\n",
    "\n",
    "\n",
    "## Return values:\n",
    "- no of converted files.\n",
    "\n",
    "Type String7, String3 from package InlineString is the smallest InlineString type.\n",
    "\"\"\"\n",
    "function convert_tsv_files_to_parquet(input_folder_path::String, \n",
    "        output_folder_path::String, sequencer_type::String=\"T7\")\n",
    "    filename_v = readdir(input_folder_path);\n",
    "    no_of_files = length(filename_v);\n",
    "    println(\"Starting to convert $(no_of_files) tsv files from $(input_folder_path) to parquet \")\n",
    "\n",
    "    column_types = Dict(\"chrom\" => String, \"pos_raw\" => Int32, \n",
    "            \"ref\" => String, \"context\" => String, \"alt\" => String, \n",
    "            \"support_reads\" => Int32, \n",
    "            \"depth\" => Int32, \"freq\" => Float32)\n",
    "    #Char, String3, String7 are not supported by Parquet.\n",
    "    no_of_converts = 0 \n",
    "    @showprogress for i in eachindex(filename_v);\n",
    "        filename = filename_v[i];\n",
    "        file_path = joinpath(input_folder_path, filename);\n",
    "        #println(i, '/', no_of_files);\n",
    "        to_read = false;\n",
    "        endswith(filename, \".allele.txt\") && (to_read = true)\n",
    "        sample_id = split(filename, \".\")[1]\n",
    "        if to_read == true\n",
    "            df_raw = CSV.read(file_path, DataFrame, types=column_types)\n",
    "            parquet2_path = joinpath(output_folder_path, \"$(sample_id).allele.parquet\");\n",
    "            Parquet2.writefile(parquet2_path, df_raw)\n",
    "            no_of_converts += 1\n",
    "        end\n",
    "    end\n",
    "    println(\"Done converting $(no_of_converts) tsv files to parquet in $(output_folder_path).\");\n",
    "    return no_of_converts\n",
    "end"
   ]
  },
  {
   "cell_type": "code",
   "execution_count": 65,
   "id": "af33ce26-a416-4f89-9179-73cb0fd0066b",
   "metadata": {},
   "outputs": [
    {
     "name": "stdout",
     "output_type": "stream",
     "text": [
      "Ready to read files from /mnt/titan01/IVD/projects/LDT/jinxiang/03_zhong_panel/05_build_like_MRD_BG/01_build_datasets/02_allele_file\n"
     ]
    },
    {
     "name": "stderr",
     "output_type": "stream",
     "text": [
      "\u001b[32mProgress: 100%|█████████████████████████████████████████| Time: 0:44:36\u001b[39m\n"
     ]
    },
    {
     "data": {
      "text/plain": [
       "139"
      ]
     },
     "execution_count": 65,
     "metadata": {},
     "output_type": "execute_result"
    }
   ],
   "source": [
    "parent_folder = \"/mnt/titan01/IVD/projects/LDT/jinxiang/03_zhong_panel/05_build_like_MRD_BG/01_build_datasets/\"\n",
    "input_folder_path = joinpath(parent_folder, \"02_allele_file\")\n",
    "output_folder_path = joinpath(parent_folder, \"02_allele_file_parquet\")\n",
    "\n",
    "@time convert_tsv_files_to_parquet(input_folder_path, output_folder_path)"
   ]
  },
  {
   "cell_type": "code",
   "execution_count": null,
   "id": "92306830-f708-4984-89ae-59e7267e1e43",
   "metadata": {},
   "outputs": [],
   "source": []
  },
  {
   "cell_type": "code",
   "execution_count": null,
   "id": "ee251420-d8b8-4dc1-9cb3-ff0d629c3960",
   "metadata": {},
   "outputs": [],
   "source": []
  },
  {
   "cell_type": "markdown",
   "id": "2e4a0693-8e54-4094-9313-741e565bdae3",
   "metadata": {},
   "source": [
    "# 5 Arrow\n",
    "- https://arrow.apache.org/julia/stable/manual"
   ]
  },
  {
   "cell_type": "code",
   "execution_count": 32,
   "id": "2245b9d3-46eb-484e-ae09-f9f790741e6f",
   "metadata": {},
   "outputs": [],
   "source": [
    "using Arrow"
   ]
  },
  {
   "cell_type": "code",
   "execution_count": 37,
   "id": "3d506628-9e73-4a71-9acc-ef9a50eedb16",
   "metadata": {},
   "outputs": [
    {
     "name": "stdout",
     "output_type": "stream",
     "text": [
      "  2.147883 seconds (34.95 M allocations: 722.262 MiB, 13.87% gc time)\n"
     ]
    },
    {
     "data": {
      "text/plain": [
       "\"/mnt/titan01/IVD/projects/LDT/jinxiang/03_zhong_panel/05_build_like_MRD_BG/01_build_datasets/02_allele_file/sample20240318-C-T7-R-20240315-C61_I1.allele.arrow\""
      ]
     },
     "execution_count": 37,
     "metadata": {},
     "output_type": "execute_result"
    }
   ],
   "source": [
    "arrow_path = joinpath(folder_path, \"$(sample_id).allele.arrow\");\n",
    "@time Arrow.write(arrow_path, df2)"
   ]
  },
  {
   "cell_type": "code",
   "execution_count": 40,
   "id": "1d88de28-9090-4536-b1fd-66a155f735b8",
   "metadata": {},
   "outputs": [
    {
     "name": "stdout",
     "output_type": "stream",
     "text": [
      "  2.673021 seconds (34.95 M allocations: 778.024 MiB)\n"
     ]
    },
    {
     "data": {
      "text/plain": [
       "\"/mnt/titan01/IVD/projects/LDT/jinxiang/03_zhong_panel/05_build_like_MRD_BG/01_build_datasets/02_allele_file/sample20240318-C-T7-R-20240315-C61_I1.allele.lz4.arrow\""
      ]
     },
     "execution_count": 40,
     "metadata": {},
     "output_type": "execute_result"
    }
   ],
   "source": [
    "arrow_lz4_path = joinpath(folder_path, \"$(sample_id).allele.lz4.arrow\");\n",
    "@time Arrow.write(arrow_lz4_path, df2; compress=:lz4)"
   ]
  },
  {
   "cell_type": "code",
   "execution_count": 38,
   "id": "793826c1-de11-4024-84fe-14c56e2c7905",
   "metadata": {},
   "outputs": [
    {
     "name": "stdout",
     "output_type": "stream",
     "text": [
      "  2.198118 seconds (34.95 M allocations: 777.829 MiB, 11.16% gc time)\n"
     ]
    },
    {
     "data": {
      "text/plain": [
       "\"/mnt/titan01/IVD/projects/LDT/jinxiang/03_zhong_panel/05_build_like_MRD_BG/01_build_datasets/02_allele_file/sample20240318-C-T7-R-20240315-C61_I1.allele.zstd.arrow\""
      ]
     },
     "execution_count": 38,
     "metadata": {},
     "output_type": "execute_result"
    }
   ],
   "source": [
    "arrow_zstd_path = joinpath(folder_path, \"$(sample_id).allele.zstd.arrow\");\n",
    "@time Arrow.write(arrow_zstd_path, df2; compress=:zstd)"
   ]
  },
  {
   "cell_type": "code",
   "execution_count": 61,
   "id": "30a04eff-40e1-47b9-a1ba-189fe7173404",
   "metadata": {},
   "outputs": [
    {
     "ename": "LoadError",
     "evalue": "MethodError: no method matching filepath(::String)\n\n\u001b[0mClosest candidates are:\n\u001b[0m  filepath(\u001b[91m::Parquet2.PageIterator\u001b[39m)\n\u001b[0m\u001b[90m   @\u001b[39m \u001b[36mParquet2\u001b[39m \u001b[90m~/.julia/packages/Parquet2/ZssLg/src/\u001b[39m\u001b[90m\u001b[4mschema.jl:1017\u001b[24m\u001b[39m\n\u001b[0m  filepath(\u001b[91m::Parquet2.Column\u001b[39m)\n\u001b[0m\u001b[90m   @\u001b[39m \u001b[36mParquet2\u001b[39m \u001b[90m~/.julia/packages/Parquet2/ZssLg/src/\u001b[39m\u001b[90m\u001b[4mschema.jl:812\u001b[24m\u001b[39m\n",
     "output_type": "error",
     "traceback": [
      "MethodError: no method matching filepath(::String)\n\n\u001b[0mClosest candidates are:\n\u001b[0m  filepath(\u001b[91m::Parquet2.PageIterator\u001b[39m)\n\u001b[0m\u001b[90m   @\u001b[39m \u001b[36mParquet2\u001b[39m \u001b[90m~/.julia/packages/Parquet2/ZssLg/src/\u001b[39m\u001b[90m\u001b[4mschema.jl:1017\u001b[24m\u001b[39m\n\u001b[0m  filepath(\u001b[91m::Parquet2.Column\u001b[39m)\n\u001b[0m\u001b[90m   @\u001b[39m \u001b[36mParquet2\u001b[39m \u001b[90m~/.julia/packages/Parquet2/ZssLg/src/\u001b[39m\u001b[90m\u001b[4mschema.jl:812\u001b[24m\u001b[39m\n",
      "",
      "Stacktrace:",
      " [1] top-level scope",
      "   @ In[61]:1"
     ]
    }
   ],
   "source": [
    "arrow_parquet_fpath = Parquet2.filepath(joinpath(output_folder_path, \n",
    "        \"$(sample_id).allele.arrow.parquet\"))\n",
    "@time Arrow.write(arrow_parquet_fpath, df2; compress=:zstd)"
   ]
  },
  {
   "cell_type": "markdown",
   "id": "e006cf41-a007-4ea3-8620-eb279e876755",
   "metadata": {},
   "source": [
    "# 6 File size comparison"
   ]
  },
  {
   "cell_type": "markdown",
   "id": "9d92910e-2812-4267-bae0-ea565a002cf4",
   "metadata": {},
   "source": [
    "- File sizes:\n",
    "- .arrow with :zstd is smallest. 20X smaller than the raw txt.\n",
    "\n",
    "- huang.yu@Cc41Saturn:/mnt/titan01/IVD/projects/LDT/jinxiang/03_zhong_panel/05_build_like_MRD_BG/01_build_datasets$ ls -shl 02_allele_file/sample20240318-C-T7-R-20240315-C61_I1.allele.* \n",
    "- 29M -rw-rw-r--+ 1 huang.yu      basic_bioinfo  56M May  7 17:31 02_allele_file/sample20240318-C-T7-R-20240315-C61_I1.allele.arrow\n",
    "- 8.9M -rw-rw-r--+ 1 huang.yu      basic_bioinfo 9.7M May  7 17:31 02_allele_file/sample20240318-C-T7-R-20240315-C61_I1.allele.lz4.arrow\n",
    "- 15M -rw-rw-r--+ 1 huang.yu      basic_bioinfo  22M May  7 15:07 02_allele_file/sample20240318-C-T7-R-20240315-C61_I1.allele.parquet\n",
    "- 11M -rw-rw-r--+ 1 huang.yu      basic_bioinfo  14M May  7 15:54 02_allele_file/sample20240318-C-T7-R-20240315-C61_I1.allele.parquet2\n",
    "- 33M -rw-rw-r--+ 1 chen.jinxiang trans_bioinfo 107M May  6 16:50 02_allele_file/sample20240318-C-T7-R-20240315-C61_I1.allele.txt\n",
    "- 4.9M -rw-rw-r--+ 1 huang.yu      basic_bioinfo 5.4M May  7 17:31 02_allele_file/sample20240318-C-T7-R-20240315-C61_I1.allele.zstd.arrow\n",
    "\n"
   ]
  },
  {
   "cell_type": "markdown",
   "id": "175318fd-3be0-40f3-a9df-034d2b194ac0",
   "metadata": {},
   "source": [
    "- .parquet or .parquet2 files can be viewed by datafrusion-cli, https://datafusion.apache.org/user-guide/cli/datasources.html or https://lib.rs/crates/pqrs.\n",
    "- csv2arrow, csv2parquet, json2arrow, json2parquet, https://github.com/domoritz/arrow-tools"
   ]
  },
  {
   "cell_type": "code",
   "execution_count": null,
   "id": "c48f17d4-bb49-4ba6-85e2-9d0f232d0268",
   "metadata": {},
   "outputs": [],
   "source": []
  }
 ],
 "metadata": {
  "kernelspec": {
   "display_name": "Julia 1.10.2",
   "language": "julia",
   "name": "julia-1.10"
  },
  "language_info": {
   "file_extension": ".jl",
   "mimetype": "application/julia",
   "name": "julia",
   "version": "1.10.2"
  }
 },
 "nbformat": 4,
 "nbformat_minor": 5
}
