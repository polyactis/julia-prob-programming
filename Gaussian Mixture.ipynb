{
 "cells": [
  {
   "cell_type": "code",
   "execution_count": 1,
   "id": "several-apartment",
   "metadata": {},
   "outputs": [
    {
     "name": "stdout",
     "output_type": "stream",
     "text": [
      "Julia Version 1.10.2\n",
      "Commit bd47eca2c8a (2024-03-01 10:14 UTC)\n",
      "Build Info:\n",
      "  Official https://julialang.org/ release\n",
      "Platform Info:\n",
      "  OS: Linux (x86_64-linux-gnu)\n",
      "  CPU: 32 × Intel(R) Xeon(R) CPU E5-2630 v3 @ 2.40GHz\n",
      "  WORD_SIZE: 64\n",
      "  LIBM: libopenlibm\n",
      "  LLVM: libLLVM-15.0.7 (ORCJIT, haswell)\n",
      "Threads: 1 default, 0 interactive, 1 GC (on 32 virtual cores)\n",
      "Environment:\n",
      "  JULIA_PKG_SERVER = https://mirrors.tuna.tsinghua.edu.cn/julia\n"
     ]
    }
   ],
   "source": [
    "versioninfo()"
   ]
  },
  {
   "cell_type": "markdown",
   "id": "polar-evening",
   "metadata": {},
   "source": [
    "- https://turinglang.org/dev/tutorials/01-gaussian-mixture-model/\n",
    "\n",
    "- \\mu(tab)\\_k(tab)  to type $\\mu_k$\n",
    "- FillArrays.Fill() or Eye() etc. enables a lazy representation of matrix."
   ]
  },
  {
   "cell_type": "code",
   "execution_count": 2,
   "id": "gross-vietnamese",
   "metadata": {},
   "outputs": [
    {
     "name": "stdout",
     "output_type": "stream",
     "text": [
      "  2.449027 seconds (1.52 M allocations: 102.434 MiB, 6.39% gc time, 11.31% compilation time: 88% of which was recompilation)\n",
      "  0.000049 seconds (5 allocations: 576 bytes)\n",
      "  1.257957 seconds (753.10 k allocations: 39.206 MiB, 1.81% compilation time: 100% of which was recompilation)\n",
      "  0.000039 seconds (5 allocations: 576 bytes)\n"
     ]
    },
    {
     "data": {
      "text/plain": [
       "Plots.GRBackend()"
      ]
     },
     "execution_count": 2,
     "metadata": {},
     "output_type": "execute_result"
    }
   ],
   "source": [
    "# set the output format of gr backend to png. default is svg, which maldisplays in jupyter pages (after restart).\n",
    "# StatsPlots has an identical gr() function.\n",
    "@time using Plots;\n",
    "#gr(fmt = \"png\")\n",
    "@time gr(fmt = :png)\n",
    "\n",
    "@time using StatsPlots; \n",
    "@time gr(fmt = :png)"
   ]
  },
  {
   "cell_type": "code",
   "execution_count": 3,
   "id": "extreme-violation",
   "metadata": {},
   "outputs": [
    {
     "ename": "LoadError",
     "evalue": "ArgumentError: Package FillArrays not found in current path.\n- Run `import Pkg; Pkg.add(\"FillArrays\")` to install the FillArrays package.",
     "output_type": "error",
     "traceback": [
      "ArgumentError: Package FillArrays not found in current path.\n- Run `import Pkg; Pkg.add(\"FillArrays\")` to install the FillArrays package.",
      "",
      "Stacktrace:",
      " [1] macro expansion",
      "   @ ./loading.jl:1772 [inlined]",
      " [2] macro expansion",
      "   @ ./lock.jl:267 [inlined]",
      " [3] __require(into::Module, mod::Symbol)",
      "   @ Base ./loading.jl:1753",
      " [4] #invoke_in_world#3",
      "   @ ./essentials.jl:926 [inlined]",
      " [5] invoke_in_world",
      "   @ ./essentials.jl:923 [inlined]",
      " [6] require(into::Module, mod::Symbol)",
      "   @ Base ./loading.jl:1746"
     ]
    }
   ],
   "source": [
    "using Distributions\n",
    "using FillArrays\n",
    "using StatsPlots\n",
    "\n",
    "using LinearAlgebra\n",
    "using Random\n",
    "\n",
    "# Set a random seed.\n",
    "Random.seed!(3)\n",
    "\n",
    "# Define Gaussian mixture model.\n",
    "w = [0.5, 0.5]\n",
    "μ = [-3.5, 0.5]\n",
    "mixturemodel = MixtureModel([MvNormal(Fill(μₖ, 2), Distributions.I) for μₖ in μ], w)\n",
    "\n",
    "# We draw the data points.\n",
    "N = 60\n",
    "x = rand(mixturemodel, N);"
   ]
  },
  {
   "cell_type": "code",
   "execution_count": 4,
   "id": "endangered-denmark",
   "metadata": {},
   "outputs": [
    {
     "data": {
      "text/latex": [
       "\\begin{verbatim}\n",
       "I\n",
       "\\end{verbatim}\n",
       "An object of type \\href{@ref}{\\texttt{UniformScaling}}, representing an identity matrix of any size.\n",
       "\n",
       "\\section{Examples}\n",
       "\\begin{verbatim}\n",
       "julia> fill(1, (5,6)) * I == fill(1, (5,6))\n",
       "true\n",
       "\n",
       "julia> [1 2im 3; 1im 2 3] * I\n",
       "2×3 Matrix{Complex{Int64}}:\n",
       " 1+0im  0+2im  3+0im\n",
       " 0+1im  2+0im  3+0im\n",
       "\\end{verbatim}\n"
      ],
      "text/markdown": [
       "```\n",
       "I\n",
       "```\n",
       "\n",
       "An object of type [`UniformScaling`](@ref), representing an identity matrix of any size.\n",
       "\n",
       "# Examples\n",
       "\n",
       "```jldoctest\n",
       "julia> fill(1, (5,6)) * I == fill(1, (5,6))\n",
       "true\n",
       "\n",
       "julia> [1 2im 3; 1im 2 3] * I\n",
       "2×3 Matrix{Complex{Int64}}:\n",
       " 1+0im  0+2im  3+0im\n",
       " 0+1im  2+0im  3+0im\n",
       "```\n"
      ],
      "text/plain": [
       "\u001b[36m  I\u001b[39m\n",
       "\n",
       "  An object of type \u001b[36mUniformScaling\u001b[39m, representing an identity matrix of any\n",
       "  size.\n",
       "\n",
       "\u001b[1m  Examples\u001b[22m\n",
       "\u001b[1m  ≡≡≡≡≡≡≡≡≡≡\u001b[22m\n",
       "\n",
       "\u001b[36m  julia> fill(1, (5,6)) * I == fill(1, (5,6))\u001b[39m\n",
       "\u001b[36m  true\u001b[39m\n",
       "\u001b[36m  \u001b[39m\n",
       "\u001b[36m  julia> [1 2im 3; 1im 2 3] * I\u001b[39m\n",
       "\u001b[36m  2×3 Matrix{Complex{Int64}}:\u001b[39m\n",
       "\u001b[36m   1+0im  0+2im  3+0im\u001b[39m\n",
       "\u001b[36m   0+1im  2+0im  3+0im\u001b[39m"
      ]
     },
     "execution_count": 4,
     "metadata": {},
     "output_type": "execute_result"
    }
   ],
   "source": [
    "?Distributions.I"
   ]
  },
  {
   "cell_type": "code",
   "execution_count": 5,
   "id": "separate-meter",
   "metadata": {},
   "outputs": [
    {
     "name": "stdout",
     "output_type": "stream",
     "text": [
      "Fill(3, 2) = Fill(3, 2)\n"
     ]
    },
    {
     "data": {
      "text/plain": [
       "2-element Fill{Int64}, with entries equal to 3"
      ]
     },
     "execution_count": 5,
     "metadata": {},
     "output_type": "execute_result"
    }
   ],
   "source": [
    "@show Fill(3,2)"
   ]
  },
  {
   "cell_type": "code",
   "execution_count": 6,
   "id": "upper-lewis",
   "metadata": {
    "tags": []
   },
   "outputs": [
    {
     "name": "stdout",
     "output_type": "stream",
     "text": [
      "search: \u001b[0m\u001b[1mM\u001b[22m\u001b[0m\u001b[1mi\u001b[22m\u001b[0m\u001b[1mx\u001b[22m\u001b[0m\u001b[1mt\u001b[22m\u001b[0m\u001b[1mu\u001b[22m\u001b[0m\u001b[1mr\u001b[22m\u001b[0m\u001b[1me\u001b[22m\u001b[0m\u001b[1mM\u001b[22m\u001b[0m\u001b[1mo\u001b[22m\u001b[0m\u001b[1md\u001b[22m\u001b[0m\u001b[1me\u001b[22m\u001b[0m\u001b[1ml\u001b[22m \u001b[0m\u001b[1mm\u001b[22m\u001b[0m\u001b[1mi\u001b[22m\u001b[0m\u001b[1mx\u001b[22m\u001b[0m\u001b[1mt\u001b[22m\u001b[0m\u001b[1mu\u001b[22m\u001b[0m\u001b[1mr\u001b[22m\u001b[0m\u001b[1me\u001b[22m\u001b[0m\u001b[1mm\u001b[22m\u001b[0m\u001b[1mo\u001b[22m\u001b[0m\u001b[1md\u001b[22m\u001b[0m\u001b[1me\u001b[22m\u001b[0m\u001b[1ml\u001b[22m Abstract\u001b[0m\u001b[1mM\u001b[22m\u001b[0m\u001b[1mi\u001b[22m\u001b[0m\u001b[1mx\u001b[22m\u001b[0m\u001b[1mt\u001b[22m\u001b[0m\u001b[1mu\u001b[22m\u001b[0m\u001b[1mr\u001b[22m\u001b[0m\u001b[1me\u001b[22m\u001b[0m\u001b[1mM\u001b[22m\u001b[0m\u001b[1mo\u001b[22m\u001b[0m\u001b[1md\u001b[22m\u001b[0m\u001b[1me\u001b[22m\u001b[0m\u001b[1ml\u001b[22m\n",
      "\n"
     ]
    },
    {
     "data": {
      "text/latex": [
       "MixtureModel\\{VF<:VariateForm,VS<:ValueSupport,C<:Distribution,CT<:Real\\} A mixture of distributions, parametrized on:\n",
       "\n",
       "\\begin{itemize}\n",
       "\\item \\texttt{VF,VS} variate and support\n",
       "\n",
       "\n",
       "\\item \\texttt{C} distribution family of the mixture\n",
       "\n",
       "\n",
       "\\item \\texttt{CT} the type for probabilities of the prior\n",
       "\n",
       "\\end{itemize}\n",
       "\\rule{\\textwidth}{1pt}\n",
       "\\begin{verbatim}\n",
       "MixtureModel(components, [prior])\n",
       "\\end{verbatim}\n",
       "Construct a mixture model with a vector of \\texttt{components} and a \\texttt{prior} probability vector. If no \\texttt{prior} is provided then all components will have the same prior probabilities.\n",
       "\n",
       "\\rule{\\textwidth}{1pt}\n",
       "\\begin{verbatim}\n",
       "MixtureModel(C, params, [prior])\n",
       "\\end{verbatim}\n",
       "Construct a mixture model with component type $C$, a vector of parameters for constructing the components given by $params$, and a prior probability vector. If no \\texttt{prior} is provided then all components will have the same prior probabilities.\n",
       "\n"
      ],
      "text/markdown": [
       "MixtureModel{VF<:VariateForm,VS<:ValueSupport,C<:Distribution,CT<:Real} A mixture of distributions, parametrized on:\n",
       "\n",
       "  * `VF,VS` variate and support\n",
       "  * `C` distribution family of the mixture\n",
       "  * `CT` the type for probabilities of the prior\n",
       "\n",
       "---\n",
       "\n",
       "```\n",
       "MixtureModel(components, [prior])\n",
       "```\n",
       "\n",
       "Construct a mixture model with a vector of `components` and a `prior` probability vector. If no `prior` is provided then all components will have the same prior probabilities.\n",
       "\n",
       "---\n",
       "\n",
       "```\n",
       "MixtureModel(C, params, [prior])\n",
       "```\n",
       "\n",
       "Construct a mixture model with component type $C$, a vector of parameters for constructing the components given by $params$, and a prior probability vector. If no `prior` is provided then all components will have the same prior probabilities.\n"
      ],
      "text/plain": [
       "  MixtureModel{VF<:VariateForm,VS<:ValueSupport,C<:Distribution,CT<:Real} A\n",
       "  mixture of distributions, parametrized on:\n",
       "\n",
       "    •  \u001b[36mVF,VS\u001b[39m variate and support\n",
       "\n",
       "    •  \u001b[36mC\u001b[39m distribution family of the mixture\n",
       "\n",
       "    •  \u001b[36mCT\u001b[39m the type for probabilities of the prior\n",
       "\n",
       "  ────────────────────────────────────────────────────────────────────────────\n",
       "\n",
       "\u001b[36m  MixtureModel(components, [prior])\u001b[39m\n",
       "\n",
       "  Construct a mixture model with a vector of \u001b[36mcomponents\u001b[39m and a \u001b[36mprior\u001b[39m\n",
       "  probability vector. If no \u001b[36mprior\u001b[39m is provided then all components will have\n",
       "  the same prior probabilities.\n",
       "\n",
       "  ────────────────────────────────────────────────────────────────────────────\n",
       "\n",
       "\u001b[36m  MixtureModel(C, params, [prior])\u001b[39m\n",
       "\n",
       "  Construct a mixture model with component type \u001b[35mC\u001b[39m, a vector of parameters for\n",
       "  constructing the components given by \u001b[35mparams\u001b[39m, and a prior probability vector.\n",
       "  If no \u001b[36mprior\u001b[39m is provided then all components will have the same prior\n",
       "  probabilities."
      ]
     },
     "execution_count": 6,
     "metadata": {},
     "output_type": "execute_result"
    }
   ],
   "source": [
    "?MixtureModel"
   ]
  },
  {
   "cell_type": "code",
   "execution_count": 7,
   "id": "expected-defense",
   "metadata": {
    "tags": []
   },
   "outputs": [
    {
     "name": "stdout",
     "output_type": "stream",
     "text": [
      "search: \u001b[0m\u001b[1mM\u001b[22m\u001b[0m\u001b[1mv\u001b[22m\u001b[0m\u001b[1mN\u001b[22m\u001b[0m\u001b[1mo\u001b[22m\u001b[0m\u001b[1mr\u001b[22m\u001b[0m\u001b[1mm\u001b[22m\u001b[0m\u001b[1ma\u001b[22m\u001b[0m\u001b[1ml\u001b[22m \u001b[0m\u001b[1mM\u001b[22m\u001b[0m\u001b[1mv\u001b[22m\u001b[0m\u001b[1mN\u001b[22m\u001b[0m\u001b[1mo\u001b[22m\u001b[0m\u001b[1mr\u001b[22m\u001b[0m\u001b[1mm\u001b[22m\u001b[0m\u001b[1ma\u001b[22m\u001b[0m\u001b[1ml\u001b[22mCanon \u001b[0m\u001b[1mM\u001b[22m\u001b[0m\u001b[1mv\u001b[22m\u001b[0m\u001b[1mN\u001b[22m\u001b[0m\u001b[1mo\u001b[22m\u001b[0m\u001b[1mr\u001b[22m\u001b[0m\u001b[1mm\u001b[22m\u001b[0m\u001b[1ma\u001b[22m\u001b[0m\u001b[1ml\u001b[22mKnownCov \u001b[0m\u001b[1mM\u001b[22m\u001b[0m\u001b[1mv\u001b[22mLog\u001b[0m\u001b[1mN\u001b[22m\u001b[0m\u001b[1mo\u001b[22m\u001b[0m\u001b[1mr\u001b[22m\u001b[0m\u001b[1mm\u001b[22m\u001b[0m\u001b[1ma\u001b[22m\u001b[0m\u001b[1ml\u001b[22m Abstract\u001b[0m\u001b[1mM\u001b[22m\u001b[0m\u001b[1mv\u001b[22m\u001b[0m\u001b[1mN\u001b[22m\u001b[0m\u001b[1mo\u001b[22m\u001b[0m\u001b[1mr\u001b[22m\u001b[0m\u001b[1mm\u001b[22m\u001b[0m\u001b[1ma\u001b[22m\u001b[0m\u001b[1ml\u001b[22m\n",
      "\n"
     ]
    },
    {
     "data": {
      "text/latex": [
       "\\begin{verbatim}\n",
       "MvNormal\n",
       "\\end{verbatim}\n",
       "Generally, users don't have to worry about these internal details.\n",
       "\n",
       "We provide a common constructor \\texttt{MvNormal}, which will construct a distribution of appropriate type depending on the input arguments.\n",
       "\n",
       "\\rule{\\textwidth}{1pt}\n",
       "\\begin{verbatim}\n",
       "MvNormal(μ::AbstractVector{<:Real}, Σ::AbstractMatrix{<:Real})\n",
       "\\end{verbatim}\n",
       "Construct a multivariate normal distribution with mean \\texttt{μ} and covariance matrix \\texttt{Σ}.\n",
       "\n",
       "\\rule{\\textwidth}{1pt}\n",
       "\\begin{verbatim}\n",
       "MvNormal(Σ::AbstractMatrix{<:Real})\n",
       "\\end{verbatim}\n",
       "Construct a multivariate normal distribution with zero mean and covariance matrix \\texttt{Σ}.\n",
       "\n"
      ],
      "text/markdown": [
       "```\n",
       "MvNormal\n",
       "```\n",
       "\n",
       "Generally, users don't have to worry about these internal details.\n",
       "\n",
       "We provide a common constructor `MvNormal`, which will construct a distribution of appropriate type depending on the input arguments.\n",
       "\n",
       "---\n",
       "\n",
       "```\n",
       "MvNormal(μ::AbstractVector{<:Real}, Σ::AbstractMatrix{<:Real})\n",
       "```\n",
       "\n",
       "Construct a multivariate normal distribution with mean `μ` and covariance matrix `Σ`.\n",
       "\n",
       "---\n",
       "\n",
       "```\n",
       "MvNormal(Σ::AbstractMatrix{<:Real})\n",
       "```\n",
       "\n",
       "Construct a multivariate normal distribution with zero mean and covariance matrix `Σ`.\n"
      ],
      "text/plain": [
       "\u001b[36m  MvNormal\u001b[39m\n",
       "\n",
       "  Generally, users don't have to worry about these internal details.\n",
       "\n",
       "  We provide a common constructor \u001b[36mMvNormal\u001b[39m, which will construct a\n",
       "  distribution of appropriate type depending on the input arguments.\n",
       "\n",
       "  ────────────────────────────────────────────────────────────────────────────\n",
       "\n",
       "\u001b[36m  MvNormal(μ::AbstractVector{<:Real}, Σ::AbstractMatrix{<:Real})\u001b[39m\n",
       "\n",
       "  Construct a multivariate normal distribution with mean \u001b[36mμ\u001b[39m and covariance\n",
       "  matrix \u001b[36mΣ\u001b[39m.\n",
       "\n",
       "  ────────────────────────────────────────────────────────────────────────────\n",
       "\n",
       "\u001b[36m  MvNormal(Σ::AbstractMatrix{<:Real})\u001b[39m\n",
       "\n",
       "  Construct a multivariate normal distribution with zero mean and covariance\n",
       "  matrix \u001b[36mΣ\u001b[39m."
      ]
     },
     "execution_count": 7,
     "metadata": {},
     "output_type": "execute_result"
    }
   ],
   "source": [
    "?MvNormal"
   ]
  },
  {
   "cell_type": "code",
   "execution_count": 8,
   "id": "lesbian-communist",
   "metadata": {},
   "outputs": [
    {
     "data": {
      "image/png": "[encoded data removed]",
      "image/svg+xml": [
       "<?xml version=\"1.0\" encoding=\"utf-8\"?>\n",
       "<svg xmlns=\"http://www.w3.org/2000/svg\" xmlns:xlink=\"http://www.w3.org/1999/xlink\" width=\"600\" height=\"400\" viewBox=\"0 0 2400 1600\">\n",
       "<defs>\n",
       "  <clipPath id=\"clip010\">\n",
       "    <rect x=\"0\" y=\"0\" width=\"2400\" height=\"1600\"/>\n",
       "  </clipPath>\n",
       "</defs>\n",
       "<path clip-path=\"url(#clip010)\" d=\"M0 1600 L2400 1600 L2400 0 L0 0  Z\" fill=\"#ffffff\" fill-rule=\"evenodd\" fill-opacity=\"1\"/>\n",
       "<defs>\n",
       "  <clipPath id=\"clip011\">\n",
       "    <rect x=\"480\" y=\"0\" width=\"1681\" height=\"1600\"/>\n",
       "  </clipPath>\n",
       "</defs>\n",
       "<path clip-path=\"url(#clip010)\" d=\"M149.191 1486.45 L2352.76 1486.45 L2352.76 123.472 L149.191 123.472  Z\" fill=\"#ffffff\" fill-rule=\"evenodd\" fill-opacity=\"1\"/>\n",
       "<defs>\n",
       "  <clipPath id=\"clip012\">\n",
       "    <rect x=\"149\" y=\"123\" width=\"2205\" height=\"1364\"/>\n",
       "  </clipPath>\n",
       "</defs>\n",
       "<polyline clip-path=\"url(#clip012)\" style=\"stroke:#000000; stroke-linecap:round; stroke-linejoin:round; stroke-width:2; stroke-opacity:0.1; fill:none\" points=\"616.301,1486.45 616.301,123.472 \"/>\n",
       "<polyline clip-path=\"url(#clip012)\" style=\"stroke:#000000; stroke-linecap:round; stroke-linejoin:round; stroke-width:2; stroke-opacity:0.1; fill:none\" points=\"1109.43,1486.45 1109.43,123.472 \"/>\n",
       "<polyline clip-path=\"url(#clip012)\" style=\"stroke:#000000; stroke-linecap:round; stroke-linejoin:round; stroke-width:2; stroke-opacity:0.1; fill:none\" points=\"1602.55,1486.45 1602.55,123.472 \"/>\n",
       "<polyline clip-path=\"url(#clip012)\" style=\"stroke:#000000; stroke-linecap:round; stroke-linejoin:round; stroke-width:2; stroke-opacity:0.1; fill:none\" points=\"2095.68,1486.45 2095.68,123.472 \"/>\n",
       "<polyline clip-path=\"url(#clip010)\" style=\"stroke:#000000; stroke-linecap:round; stroke-linejoin:round; stroke-width:4; stroke-opacity:1; fill:none\" points=\"149.191,1486.45 2352.76,1486.45 \"/>\n",
       "<polyline clip-path=\"url(#clip010)\" style=\"stroke:#000000; stroke-linecap:round; stroke-linejoin:round; stroke-width:4; stroke-opacity:1; fill:none\" points=\"616.301,1486.45 616.301,1467.55 \"/>\n",
       "<polyline clip-path=\"url(#clip010)\" style=\"stroke:#000000; stroke-linecap:round; stroke-linejoin:round; stroke-width:4; stroke-opacity:1; fill:none\" points=\"1109.43,1486.45 1109.43,1467.55 \"/>\n",
       "<polyline clip-path=\"url(#clip010)\" style=\"stroke:#000000; stroke-linecap:round; stroke-linejoin:round; stroke-width:4; stroke-opacity:1; fill:none\" points=\"1602.55,1486.45 1602.55,1467.55 \"/>\n",
       "<polyline clip-path=\"url(#clip010)\" style=\"stroke:#000000; stroke-linecap:round; stroke-linejoin:round; stroke-width:4; stroke-opacity:1; fill:none\" points=\"2095.68,1486.45 2095.68,1467.55 \"/>\n",
       "<path clip-path=\"url(#clip010)\" d=\"M585.201 1532.02 L614.877 1532.02 L614.877 1535.95 L585.201 1535.95 L585.201 1532.02 Z\" fill=\"#000000\" fill-rule=\"nonzero\" fill-opacity=\"1\" /><path clip-path=\"url(#clip010)\" d=\"M637.817 1518.36 L626.011 1536.81 L637.817 1536.81 L637.817 1518.36 M636.59 1514.29 L642.47 1514.29 L642.47 1536.81 L647.4 1536.81 L647.4 1540.7 L642.47 1540.7 L642.47 1548.85 L637.817 1548.85 L637.817 1540.7 L622.215 1540.7 L622.215 1536.19 L636.59 1514.29 Z\" fill=\"#000000\" fill-rule=\"nonzero\" fill-opacity=\"1\" /><path clip-path=\"url(#clip010)\" d=\"M1079.37 1532.02 L1109.05 1532.02 L1109.05 1535.95 L1079.37 1535.95 L1079.37 1532.02 Z\" fill=\"#000000\" fill-rule=\"nonzero\" fill-opacity=\"1\" /><path clip-path=\"url(#clip010)\" d=\"M1123.17 1544.91 L1139.49 1544.91 L1139.49 1548.85 L1117.54 1548.85 L1117.54 1544.91 Q1120.2 1542.16 1124.79 1537.53 Q1129.39 1532.88 1130.57 1531.53 Q1132.82 1529.01 1133.7 1527.27 Q1134.6 1525.51 1134.6 1523.82 Q1134.6 1521.07 1132.66 1519.33 Q1130.74 1517.6 1127.63 1517.6 Q1125.43 1517.6 1122.98 1518.36 Q1120.55 1519.13 1117.77 1520.68 L1117.77 1515.95 Q1120.6 1514.82 1123.05 1514.24 Q1125.5 1513.66 1127.54 1513.66 Q1132.91 1513.66 1136.11 1516.35 Q1139.3 1519.03 1139.3 1523.52 Q1139.3 1525.65 1138.49 1527.57 Q1137.7 1529.47 1135.6 1532.07 Q1135.02 1532.74 1131.92 1535.95 Q1128.81 1539.15 1123.17 1544.91 Z\" fill=\"#000000\" fill-rule=\"nonzero\" fill-opacity=\"1\" /><path clip-path=\"url(#clip010)\" d=\"M1602.55 1517.37 Q1598.94 1517.37 1597.11 1520.93 Q1595.31 1524.47 1595.31 1531.6 Q1595.31 1538.71 1597.11 1542.27 Q1598.94 1545.82 1602.55 1545.82 Q1606.19 1545.82 1607.99 1542.27 Q1609.82 1538.71 1609.82 1531.6 Q1609.82 1524.47 1607.99 1520.93 Q1606.19 1517.37 1602.55 1517.37 M1602.55 1513.66 Q1608.36 1513.66 1611.42 1518.27 Q1614.5 1522.85 1614.5 1531.6 Q1614.5 1540.33 1611.42 1544.94 Q1608.36 1549.52 1602.55 1549.52 Q1596.74 1549.52 1593.67 1544.94 Q1590.61 1540.33 1590.61 1531.6 Q1590.61 1522.85 1593.67 1518.27 Q1596.74 1513.66 1602.55 1513.66 Z\" fill=\"#000000\" fill-rule=\"nonzero\" fill-opacity=\"1\" /><path clip-path=\"url(#clip010)\" d=\"M2090.33 1544.91 L2106.65 1544.91 L2106.65 1548.85 L2084.71 1548.85 L2084.71 1544.91 Q2087.37 1542.16 2091.95 1537.53 Q2096.56 1532.88 2097.74 1531.53 Q2099.99 1529.01 2100.87 1527.27 Q2101.77 1525.51 2101.77 1523.82 Q2101.77 1521.07 2099.83 1519.33 Q2097.9 1517.6 2094.8 1517.6 Q2092.6 1517.6 2090.15 1518.36 Q2087.72 1519.13 2084.94 1520.68 L2084.94 1515.95 Q2087.77 1514.82 2090.22 1514.24 Q2092.67 1513.66 2094.71 1513.66 Q2100.08 1513.66 2103.27 1516.35 Q2106.47 1519.03 2106.47 1523.52 Q2106.47 1525.65 2105.66 1527.57 Q2104.87 1529.47 2102.77 1532.07 Q2102.19 1532.74 2099.08 1535.95 Q2095.98 1539.15 2090.33 1544.91 Z\" fill=\"#000000\" fill-rule=\"nonzero\" fill-opacity=\"1\" /><polyline clip-path=\"url(#clip012)\" style=\"stroke:#000000; stroke-linecap:round; stroke-linejoin:round; stroke-width:2; stroke-opacity:0.1; fill:none\" points=\"149.191,1175.85 2352.76,1175.85 \"/>\n",
       "<polyline clip-path=\"url(#clip012)\" style=\"stroke:#000000; stroke-linecap:round; stroke-linejoin:round; stroke-width:2; stroke-opacity:0.1; fill:none\" points=\"149.191,856.65 2352.76,856.65 \"/>\n",
       "<polyline clip-path=\"url(#clip012)\" style=\"stroke:#000000; stroke-linecap:round; stroke-linejoin:round; stroke-width:2; stroke-opacity:0.1; fill:none\" points=\"149.191,537.452 2352.76,537.452 \"/>\n",
       "<polyline clip-path=\"url(#clip012)\" style=\"stroke:#000000; stroke-linecap:round; stroke-linejoin:round; stroke-width:2; stroke-opacity:0.1; fill:none\" points=\"149.191,218.254 2352.76,218.254 \"/>\n",
       "<polyline clip-path=\"url(#clip010)\" style=\"stroke:#000000; stroke-linecap:round; stroke-linejoin:round; stroke-width:4; stroke-opacity:1; fill:none\" points=\"149.191,1486.45 149.191,123.472 \"/>\n",
       "<polyline clip-path=\"url(#clip010)\" style=\"stroke:#000000; stroke-linecap:round; stroke-linejoin:round; stroke-width:4; stroke-opacity:1; fill:none\" points=\"149.191,1175.85 168.089,1175.85 \"/>\n",
       "<polyline clip-path=\"url(#clip010)\" style=\"stroke:#000000; stroke-linecap:round; stroke-linejoin:round; stroke-width:4; stroke-opacity:1; fill:none\" points=\"149.191,856.65 168.089,856.65 \"/>\n",
       "<polyline clip-path=\"url(#clip010)\" style=\"stroke:#000000; stroke-linecap:round; stroke-linejoin:round; stroke-width:4; stroke-opacity:1; fill:none\" points=\"149.191,537.452 168.089,537.452 \"/>\n",
       "<polyline clip-path=\"url(#clip010)\" style=\"stroke:#000000; stroke-linecap:round; stroke-linejoin:round; stroke-width:4; stroke-opacity:1; fill:none\" points=\"149.191,218.254 168.089,218.254 \"/>\n",
       "<path clip-path=\"url(#clip010)\" d=\"M50.9921 1176.3 L80.6679 1176.3 L80.6679 1180.23 L50.9921 1180.23 L50.9921 1176.3 Z\" fill=\"#000000\" fill-rule=\"nonzero\" fill-opacity=\"1\" /><path clip-path=\"url(#clip010)\" d=\"M103.608 1162.64 L91.8021 1181.09 L103.608 1181.09 L103.608 1162.64 M102.381 1158.57 L108.26 1158.57 L108.26 1181.09 L113.191 1181.09 L113.191 1184.98 L108.26 1184.98 L108.26 1193.13 L103.608 1193.13 L103.608 1184.98 L88.0058 1184.98 L88.0058 1180.47 L102.381 1158.57 Z\" fill=\"#000000\" fill-rule=\"nonzero\" fill-opacity=\"1\" /><path clip-path=\"url(#clip010)\" d=\"M53.0754 857.101 L82.7512 857.101 L82.7512 861.036 L53.0754 861.036 L53.0754 857.101 Z\" fill=\"#000000\" fill-rule=\"nonzero\" fill-opacity=\"1\" /><path clip-path=\"url(#clip010)\" d=\"M96.8715 869.994 L113.191 869.994 L113.191 873.93 L91.2465 873.93 L91.2465 869.994 Q93.9086 867.24 98.4919 862.61 Q103.098 857.957 104.279 856.615 Q106.524 854.092 107.404 852.356 Q108.307 850.596 108.307 848.907 Q108.307 846.152 106.362 844.416 Q104.441 842.68 101.339 842.68 Q99.14 842.68 96.6863 843.444 Q94.2558 844.208 91.478 845.758 L91.478 841.036 Q94.3021 839.902 96.7558 839.323 Q99.2095 838.745 101.246 838.745 Q106.617 838.745 109.811 841.43 Q113.006 844.115 113.006 848.606 Q113.006 850.735 112.196 852.657 Q111.408 854.555 109.302 857.147 Q108.723 857.819 105.621 861.036 Q102.52 864.231 96.8715 869.994 Z\" fill=\"#000000\" fill-rule=\"nonzero\" fill-opacity=\"1\" /><path clip-path=\"url(#clip010)\" d=\"M101.246 523.25 Q97.6354 523.25 95.8067 526.815 Q94.0012 530.357 94.0012 537.486 Q94.0012 544.593 95.8067 548.158 Q97.6354 551.699 101.246 551.699 Q104.881 551.699 106.686 548.158 Q108.515 544.593 108.515 537.486 Q108.515 530.357 106.686 526.815 Q104.881 523.25 101.246 523.25 M101.246 519.547 Q107.057 519.547 110.112 524.153 Q113.191 528.736 113.191 537.486 Q113.191 546.213 110.112 550.82 Q107.057 555.403 101.246 555.403 Q95.4363 555.403 92.3576 550.82 Q89.3021 546.213 89.3021 537.486 Q89.3021 528.736 92.3576 524.153 Q95.4363 519.547 101.246 519.547 Z\" fill=\"#000000\" fill-rule=\"nonzero\" fill-opacity=\"1\" /><path clip-path=\"url(#clip010)\" d=\"M96.8715 231.598 L113.191 231.598 L113.191 235.534 L91.2465 235.534 L91.2465 231.598 Q93.9086 228.844 98.4919 224.214 Q103.098 219.562 104.279 218.219 Q106.524 215.696 107.404 213.96 Q108.307 212.2 108.307 210.511 Q108.307 207.756 106.362 206.02 Q104.441 204.284 101.339 204.284 Q99.14 204.284 96.6863 205.048 Q94.2558 205.812 91.478 207.363 L91.478 202.64 Q94.3021 201.506 96.7558 200.927 Q99.2095 200.349 101.246 200.349 Q106.617 200.349 109.811 203.034 Q113.006 205.719 113.006 210.21 Q113.006 212.339 112.196 214.261 Q111.408 216.159 109.302 218.751 Q108.723 219.423 105.621 222.64 Q102.52 225.835 96.8715 231.598 Z\" fill=\"#000000\" fill-rule=\"nonzero\" fill-opacity=\"1\" /><path clip-path=\"url(#clip010)\" d=\"M922.161 14.0809 L922.161 22.0612 Q917.503 19.8332 913.371 18.7395 Q909.239 17.6457 905.391 17.6457 Q898.707 17.6457 895.061 20.2383 Q891.456 22.8309 891.456 27.611 Q891.456 31.6214 893.846 33.6873 Q896.276 35.7128 903.001 36.9686 L907.943 37.9813 Q917.098 39.7232 921.432 44.1387 Q925.807 48.5136 925.807 55.8863 Q925.807 64.6767 919.893 69.2137 Q914.019 73.7508 902.636 73.7508 Q898.342 73.7508 893.481 72.7785 Q888.661 71.8063 883.475 69.9024 L883.475 61.4765 Q888.458 64.2716 893.238 65.6895 Q898.018 67.1073 902.636 67.1073 Q909.644 67.1073 913.452 64.3527 Q917.26 61.598 917.26 56.4939 Q917.26 52.0379 914.505 49.5264 Q911.791 47.0148 905.553 45.759 L900.57 44.7868 Q891.415 42.9639 887.324 39.075 Q883.232 35.1862 883.232 28.2591 Q883.232 20.2383 888.863 15.6203 Q894.534 11.0023 904.459 11.0023 Q908.712 11.0023 913.128 11.7719 Q917.543 12.5416 922.161 14.0809 Z\" fill=\"#000000\" fill-rule=\"nonzero\" fill-opacity=\"1\" /><path clip-path=\"url(#clip010)\" d=\"M957.121 76.7889 Q953.961 84.8907 950.963 87.3618 Q947.966 89.8329 942.943 89.8329 L936.988 89.8329 L936.988 83.5945 L941.363 83.5945 Q944.441 83.5945 946.143 82.1361 Q947.844 80.6778 949.91 75.2496 L951.247 71.8468 L932.896 27.2059 L940.796 27.2059 L954.974 62.6918 L969.152 27.2059 L977.051 27.2059 L957.121 76.7889 Z\" fill=\"#000000\" fill-rule=\"nonzero\" fill-opacity=\"1\" /><path clip-path=\"url(#clip010)\" d=\"M1025.05 45.1919 L1025.05 72.576 L1017.6 72.576 L1017.6 45.4349 Q1017.6 38.994 1015.09 35.7938 Q1012.58 32.5936 1007.55 32.5936 Q1001.52 32.5936 998.035 36.4419 Q994.551 40.2903 994.551 46.9338 L994.551 72.576 L987.057 72.576 L987.057 27.2059 L994.551 27.2059 L994.551 34.2544 Q997.225 30.163 1000.83 28.1376 Q1004.48 26.1121 1009.22 26.1121 Q1017.03 26.1121 1021.04 30.9732 Q1025.05 35.7938 1025.05 45.1919 Z\" fill=\"#000000\" fill-rule=\"nonzero\" fill-opacity=\"1\" /><path clip-path=\"url(#clip010)\" d=\"M1047.29 14.324 L1047.29 27.2059 L1062.65 27.2059 L1062.65 32.9987 L1047.29 32.9987 L1047.29 57.6282 Q1047.29 63.1779 1048.79 64.7578 Q1050.33 66.3376 1054.99 66.3376 L1062.65 66.3376 L1062.65 72.576 L1054.99 72.576 Q1046.36 72.576 1043.08 69.3758 Q1039.8 66.1351 1039.8 57.6282 L1039.8 32.9987 L1034.33 32.9987 L1034.33 27.2059 L1039.8 27.2059 L1039.8 14.324 L1047.29 14.324 Z\" fill=\"#000000\" fill-rule=\"nonzero\" fill-opacity=\"1\" /><path clip-path=\"url(#clip010)\" d=\"M1110.16 45.1919 L1110.16 72.576 L1102.71 72.576 L1102.71 45.4349 Q1102.71 38.994 1100.2 35.7938 Q1097.69 32.5936 1092.66 32.5936 Q1086.63 32.5936 1083.14 36.4419 Q1079.66 40.2903 1079.66 46.9338 L1079.66 72.576 L1072.17 72.576 L1072.17 9.54393 L1079.66 9.54393 L1079.66 34.2544 Q1082.33 30.163 1085.94 28.1376 Q1089.59 26.1121 1094.32 26.1121 Q1102.14 26.1121 1106.15 30.9732 Q1110.16 35.7938 1110.16 45.1919 Z\" fill=\"#000000\" fill-rule=\"nonzero\" fill-opacity=\"1\" /><path clip-path=\"url(#clip010)\" d=\"M1163.84 48.0275 L1163.84 51.6733 L1129.57 51.6733 Q1130.05 59.3701 1134.19 63.421 Q1138.36 67.4314 1145.77 67.4314 Q1150.07 67.4314 1154.08 66.3781 Q1158.13 65.3249 1162.1 63.2184 L1162.1 70.267 Q1158.09 71.9684 1153.87 72.8596 Q1149.66 73.7508 1145.33 73.7508 Q1134.47 73.7508 1128.11 67.4314 Q1121.79 61.1119 1121.79 50.3365 Q1121.79 39.1965 1127.79 32.6746 Q1133.82 26.1121 1144.03 26.1121 Q1153.18 26.1121 1158.49 32.0264 Q1163.84 37.9003 1163.84 48.0275 M1156.38 45.84 Q1156.3 39.7232 1152.94 36.0774 Q1149.62 32.4315 1144.11 32.4315 Q1137.87 32.4315 1134.1 35.9558 Q1130.38 39.4801 1129.81 45.8805 L1156.38 45.84 Z\" fill=\"#000000\" fill-rule=\"nonzero\" fill-opacity=\"1\" /><path clip-path=\"url(#clip010)\" d=\"M1183.44 14.324 L1183.44 27.2059 L1198.8 27.2059 L1198.8 32.9987 L1183.44 32.9987 L1183.44 57.6282 Q1183.44 63.1779 1184.94 64.7578 Q1186.48 66.3376 1191.14 66.3376 L1198.8 66.3376 L1198.8 72.576 L1191.14 72.576 Q1182.51 72.576 1179.23 69.3758 Q1175.95 66.1351 1175.95 57.6282 L1175.95 32.9987 L1170.48 32.9987 L1170.48 27.2059 L1175.95 27.2059 L1175.95 14.324 L1183.44 14.324 Z\" fill=\"#000000\" fill-rule=\"nonzero\" fill-opacity=\"1\" /><path clip-path=\"url(#clip010)\" d=\"M1208.6 27.2059 L1216.05 27.2059 L1216.05 72.576 L1208.6 72.576 L1208.6 27.2059 M1208.6 9.54393 L1216.05 9.54393 L1216.05 18.9825 L1208.6 18.9825 L1208.6 9.54393 Z\" fill=\"#000000\" fill-rule=\"nonzero\" fill-opacity=\"1\" /><path clip-path=\"url(#clip010)\" d=\"M1264.3 28.9478 L1264.3 35.9153 Q1261.14 34.1734 1257.94 33.3227 Q1254.78 32.4315 1251.54 32.4315 Q1244.29 32.4315 1240.28 37.0496 Q1236.27 41.6271 1236.27 49.9314 Q1236.27 58.2358 1240.28 62.8538 Q1244.29 67.4314 1251.54 67.4314 Q1254.78 67.4314 1257.94 66.5807 Q1261.14 65.6895 1264.3 63.9476 L1264.3 70.8341 Q1261.18 72.2924 1257.82 73.0216 Q1254.5 73.7508 1250.73 73.7508 Q1240.48 73.7508 1234.45 67.3098 Q1228.41 60.8689 1228.41 49.9314 Q1228.41 38.832 1234.49 32.472 Q1240.6 26.1121 1251.22 26.1121 Q1254.66 26.1121 1257.94 26.8413 Q1261.22 27.5299 1264.3 28.9478 Z\" fill=\"#000000\" fill-rule=\"nonzero\" fill-opacity=\"1\" /><path clip-path=\"url(#clip010)\" d=\"M1312.14 18.8205 L1312.14 65.8515 L1322.03 65.8515 Q1334.54 65.8515 1340.34 60.1802 Q1346.17 54.509 1346.17 42.2752 Q1346.17 30.1225 1340.34 24.4918 Q1334.54 18.8205 1322.03 18.8205 L1312.14 18.8205 M1303.96 12.096 L1320.77 12.096 Q1338.35 12.096 1346.57 19.4281 Q1354.8 26.7198 1354.8 42.2752 Q1354.8 57.9117 1346.53 65.2439 Q1338.27 72.576 1320.77 72.576 L1303.96 72.576 L1303.96 12.096 Z\" fill=\"#000000\" fill-rule=\"nonzero\" fill-opacity=\"1\" /><path clip-path=\"url(#clip010)\" d=\"M1388.14 49.7694 Q1379.1 49.7694 1375.62 51.8354 Q1372.14 53.9013 1372.14 58.8839 Q1372.14 62.8538 1374.73 65.2034 Q1377.36 67.5124 1381.86 67.5124 Q1388.06 67.5124 1391.78 63.1374 Q1395.55 58.7219 1395.55 51.4303 L1395.55 49.7694 L1388.14 49.7694 M1403 46.6907 L1403 72.576 L1395.55 72.576 L1395.55 65.6895 Q1393 69.8214 1389.19 71.8063 Q1385.38 73.7508 1379.87 73.7508 Q1372.91 73.7508 1368.77 69.8619 Q1364.68 65.9325 1364.68 59.3701 Q1364.68 51.7138 1369.79 47.825 Q1374.93 43.9361 1385.1 43.9361 L1395.55 43.9361 L1395.55 43.2069 Q1395.55 38.0623 1392.15 35.2672 Q1388.79 32.4315 1382.67 32.4315 Q1378.78 32.4315 1375.09 33.3632 Q1371.41 34.295 1368 36.1584 L1368 29.2718 Q1372.1 27.692 1375.94 26.9223 Q1379.79 26.1121 1383.44 26.1121 Q1393.28 26.1121 1398.14 31.2163 Q1403 36.3204 1403 46.6907 Z\" fill=\"#000000\" fill-rule=\"nonzero\" fill-opacity=\"1\" /><path clip-path=\"url(#clip010)\" d=\"M1425.73 14.324 L1425.73 27.2059 L1441.08 27.2059 L1441.08 32.9987 L1425.73 32.9987 L1425.73 57.6282 Q1425.73 63.1779 1427.23 64.7578 Q1428.77 66.3376 1433.43 66.3376 L1441.08 66.3376 L1441.08 72.576 L1433.43 72.576 Q1424.8 72.576 1421.52 69.3758 Q1418.24 66.1351 1418.24 57.6282 L1418.24 32.9987 L1412.77 32.9987 L1412.77 27.2059 L1418.24 27.2059 L1418.24 14.324 L1425.73 14.324 Z\" fill=\"#000000\" fill-rule=\"nonzero\" fill-opacity=\"1\" /><path clip-path=\"url(#clip010)\" d=\"M1471.5 49.7694 Q1462.47 49.7694 1458.99 51.8354 Q1455.5 53.9013 1455.5 58.8839 Q1455.5 62.8538 1458.1 65.2034 Q1460.73 67.5124 1465.23 67.5124 Q1471.42 67.5124 1475.15 63.1374 Q1478.92 58.7219 1478.92 51.4303 L1478.92 49.7694 L1471.5 49.7694 M1486.37 46.6907 L1486.37 72.576 L1478.92 72.576 L1478.92 65.6895 Q1476.37 69.8214 1472.56 71.8063 Q1468.75 73.7508 1463.24 73.7508 Q1456.27 73.7508 1452.14 69.8619 Q1448.05 65.9325 1448.05 59.3701 Q1448.05 51.7138 1453.15 47.825 Q1458.3 43.9361 1468.47 43.9361 L1478.92 43.9361 L1478.92 43.2069 Q1478.92 38.0623 1475.52 35.2672 Q1472.15 32.4315 1466.04 32.4315 Q1462.15 32.4315 1458.46 33.3632 Q1454.77 34.295 1451.37 36.1584 L1451.37 29.2718 Q1455.46 27.692 1459.31 26.9223 Q1463.16 26.1121 1466.81 26.1121 Q1476.65 26.1121 1481.51 31.2163 Q1486.37 36.3204 1486.37 46.6907 Z\" fill=\"#000000\" fill-rule=\"nonzero\" fill-opacity=\"1\" /><path clip-path=\"url(#clip010)\" d=\"M1530.65 28.5427 L1530.65 35.5912 Q1527.49 33.9709 1524.09 33.1607 Q1520.68 32.3505 1517.04 32.3505 Q1511.49 32.3505 1508.69 34.0519 Q1505.94 35.7533 1505.94 39.156 Q1505.94 41.7486 1507.92 43.2475 Q1509.91 44.7058 1515.9 46.0426 L1518.45 46.6097 Q1526.39 48.3111 1529.72 51.4303 Q1533.08 54.509 1533.08 60.0587 Q1533.08 66.3781 1528.06 70.0644 Q1523.07 73.7508 1514.32 73.7508 Q1510.68 73.7508 1506.71 73.0216 Q1502.78 72.3329 1498.4 70.9151 L1498.4 63.2184 Q1502.53 65.3654 1506.54 66.4591 Q1510.56 67.5124 1514.48 67.5124 Q1519.75 67.5124 1522.59 65.73 Q1525.42 63.9071 1525.42 60.6258 Q1525.42 57.5877 1523.36 55.9673 Q1521.33 54.3469 1514.4 52.8481 L1511.81 52.2405 Q1504.88 50.7821 1501.81 47.7845 Q1498.73 44.7463 1498.73 39.4801 Q1498.73 33.0797 1503.26 29.5959 Q1507.8 26.1121 1516.15 26.1121 Q1520.28 26.1121 1523.92 26.7198 Q1527.57 27.3274 1530.65 28.5427 Z\" fill=\"#000000\" fill-rule=\"nonzero\" fill-opacity=\"1\" /><path clip-path=\"url(#clip010)\" d=\"M1583.76 48.0275 L1583.76 51.6733 L1549.48 51.6733 Q1549.97 59.3701 1554.1 63.421 Q1558.27 67.4314 1565.69 67.4314 Q1569.98 67.4314 1573.99 66.3781 Q1578.04 65.3249 1582.01 63.2184 L1582.01 70.267 Q1578 71.9684 1573.79 72.8596 Q1569.58 73.7508 1565.24 73.7508 Q1554.39 73.7508 1548.03 67.4314 Q1541.71 61.1119 1541.71 50.3365 Q1541.71 39.1965 1547.7 32.6746 Q1553.74 26.1121 1563.95 26.1121 Q1573.1 26.1121 1578.41 32.0264 Q1583.76 37.9003 1583.76 48.0275 M1576.3 45.84 Q1576.22 39.7232 1572.86 36.0774 Q1569.54 32.4315 1564.03 32.4315 Q1557.79 32.4315 1554.02 35.9558 Q1550.29 39.4801 1549.73 45.8805 L1576.3 45.84 Z\" fill=\"#000000\" fill-rule=\"nonzero\" fill-opacity=\"1\" /><path clip-path=\"url(#clip010)\" d=\"M1603.36 14.324 L1603.36 27.2059 L1618.71 27.2059 L1618.71 32.9987 L1603.36 32.9987 L1603.36 57.6282 Q1603.36 63.1779 1604.86 64.7578 Q1606.4 66.3376 1611.06 66.3376 L1618.71 66.3376 L1618.71 72.576 L1611.06 72.576 Q1602.43 72.576 1599.15 69.3758 Q1595.87 66.1351 1595.87 57.6282 L1595.87 32.9987 L1590.4 32.9987 L1590.4 27.2059 L1595.87 27.2059 L1595.87 14.324 L1603.36 14.324 Z\" fill=\"#000000\" fill-rule=\"nonzero\" fill-opacity=\"1\" /><circle clip-path=\"url(#clip012)\" cx=\"916.47\" cy=\"987.721\" r=\"14.4\" fill=\"#009af9\" fill-rule=\"evenodd\" fill-opacity=\"1\" stroke=\"#000000\" stroke-opacity=\"1\" stroke-width=\"3.2\"/>\n",
       "<circle clip-path=\"url(#clip012)\" cx=\"1949.76\" cy=\"582.62\" r=\"14.4\" fill=\"#009af9\" fill-rule=\"evenodd\" fill-opacity=\"1\" stroke=\"#000000\" stroke-opacity=\"1\" stroke-width=\"3.2\"/>\n",
       "<circle clip-path=\"url(#clip012)\" cx=\"560.238\" cy=\"1161.98\" r=\"14.4\" fill=\"#009af9\" fill-rule=\"evenodd\" fill-opacity=\"1\" stroke=\"#000000\" stroke-opacity=\"1\" stroke-width=\"3.2\"/>\n",
       "<circle clip-path=\"url(#clip012)\" cx=\"1852.21\" cy=\"537.763\" r=\"14.4\" fill=\"#009af9\" fill-rule=\"evenodd\" fill-opacity=\"1\" stroke=\"#000000\" stroke-opacity=\"1\" stroke-width=\"3.2\"/>\n",
       "<circle clip-path=\"url(#clip012)\" cx=\"1720.17\" cy=\"380.436\" r=\"14.4\" fill=\"#009af9\" fill-rule=\"evenodd\" fill-opacity=\"1\" stroke=\"#000000\" stroke-opacity=\"1\" stroke-width=\"3.2\"/>\n",
       "<circle clip-path=\"url(#clip012)\" cx=\"1070.8\" cy=\"965.601\" r=\"14.4\" fill=\"#009af9\" fill-rule=\"evenodd\" fill-opacity=\"1\" stroke=\"#000000\" stroke-opacity=\"1\" stroke-width=\"3.2\"/>\n",
       "<circle clip-path=\"url(#clip012)\" cx=\"1841.89\" cy=\"162.047\" r=\"14.4\" fill=\"#009af9\" fill-rule=\"evenodd\" fill-opacity=\"1\" stroke=\"#000000\" stroke-opacity=\"1\" stroke-width=\"3.2\"/>\n",
       "<circle clip-path=\"url(#clip012)\" cx=\"1520.1\" cy=\"392.431\" r=\"14.4\" fill=\"#009af9\" fill-rule=\"evenodd\" fill-opacity=\"1\" stroke=\"#000000\" stroke-opacity=\"1\" stroke-width=\"3.2\"/>\n",
       "<circle clip-path=\"url(#clip012)\" cx=\"1285.53\" cy=\"1034.76\" r=\"14.4\" fill=\"#009af9\" fill-rule=\"evenodd\" fill-opacity=\"1\" stroke=\"#000000\" stroke-opacity=\"1\" stroke-width=\"3.2\"/>\n",
       "<circle clip-path=\"url(#clip012)\" cx=\"574.238\" cy=\"975.603\" r=\"14.4\" fill=\"#009af9\" fill-rule=\"evenodd\" fill-opacity=\"1\" stroke=\"#000000\" stroke-opacity=\"1\" stroke-width=\"3.2\"/>\n",
       "<circle clip-path=\"url(#clip012)\" cx=\"757.58\" cy=\"1037.37\" r=\"14.4\" fill=\"#009af9\" fill-rule=\"evenodd\" fill-opacity=\"1\" stroke=\"#000000\" stroke-opacity=\"1\" stroke-width=\"3.2\"/>\n",
       "<circle clip-path=\"url(#clip012)\" cx=\"1566.57\" cy=\"586.064\" r=\"14.4\" fill=\"#009af9\" fill-rule=\"evenodd\" fill-opacity=\"1\" stroke=\"#000000\" stroke-opacity=\"1\" stroke-width=\"3.2\"/>\n",
       "<circle clip-path=\"url(#clip012)\" cx=\"1657.92\" cy=\"291.013\" r=\"14.4\" fill=\"#009af9\" fill-rule=\"evenodd\" fill-opacity=\"1\" stroke=\"#000000\" stroke-opacity=\"1\" stroke-width=\"3.2\"/>\n",
       "<circle clip-path=\"url(#clip012)\" cx=\"378.784\" cy=\"1333.37\" r=\"14.4\" fill=\"#009af9\" fill-rule=\"evenodd\" fill-opacity=\"1\" stroke=\"#000000\" stroke-opacity=\"1\" stroke-width=\"3.2\"/>\n",
       "<circle clip-path=\"url(#clip012)\" cx=\"1570.23\" cy=\"244.414\" r=\"14.4\" fill=\"#009af9\" fill-rule=\"evenodd\" fill-opacity=\"1\" stroke=\"#000000\" stroke-opacity=\"1\" stroke-width=\"3.2\"/>\n",
       "<circle clip-path=\"url(#clip012)\" cx=\"755.157\" cy=\"1130.93\" r=\"14.4\" fill=\"#009af9\" fill-rule=\"evenodd\" fill-opacity=\"1\" stroke=\"#000000\" stroke-opacity=\"1\" stroke-width=\"3.2\"/>\n",
       "<circle clip-path=\"url(#clip012)\" cx=\"1865.02\" cy=\"410.489\" r=\"14.4\" fill=\"#009af9\" fill-rule=\"evenodd\" fill-opacity=\"1\" stroke=\"#000000\" stroke-opacity=\"1\" stroke-width=\"3.2\"/>\n",
       "<circle clip-path=\"url(#clip012)\" cx=\"2290.39\" cy=\"361.827\" r=\"14.4\" fill=\"#009af9\" fill-rule=\"evenodd\" fill-opacity=\"1\" stroke=\"#000000\" stroke-opacity=\"1\" stroke-width=\"3.2\"/>\n",
       "<circle clip-path=\"url(#clip012)\" cx=\"1677.56\" cy=\"346.46\" r=\"14.4\" fill=\"#009af9\" fill-rule=\"evenodd\" fill-opacity=\"1\" stroke=\"#000000\" stroke-opacity=\"1\" stroke-width=\"3.2\"/>\n",
       "<circle clip-path=\"url(#clip012)\" cx=\"1492.8\" cy=\"305.61\" r=\"14.4\" fill=\"#009af9\" fill-rule=\"evenodd\" fill-opacity=\"1\" stroke=\"#000000\" stroke-opacity=\"1\" stroke-width=\"3.2\"/>\n",
       "<circle clip-path=\"url(#clip012)\" cx=\"1761.15\" cy=\"502.609\" r=\"14.4\" fill=\"#009af9\" fill-rule=\"evenodd\" fill-opacity=\"1\" stroke=\"#000000\" stroke-opacity=\"1\" stroke-width=\"3.2\"/>\n",
       "<circle clip-path=\"url(#clip012)\" cx=\"1834.25\" cy=\"684.626\" r=\"14.4\" fill=\"#009af9\" fill-rule=\"evenodd\" fill-opacity=\"1\" stroke=\"#000000\" stroke-opacity=\"1\" stroke-width=\"3.2\"/>\n",
       "<circle clip-path=\"url(#clip012)\" cx=\"485.248\" cy=\"824.277\" r=\"14.4\" fill=\"#009af9\" fill-rule=\"evenodd\" fill-opacity=\"1\" stroke=\"#000000\" stroke-opacity=\"1\" stroke-width=\"3.2\"/>\n",
       "<circle clip-path=\"url(#clip012)\" cx=\"1374.77\" cy=\"511.051\" r=\"14.4\" fill=\"#009af9\" fill-rule=\"evenodd\" fill-opacity=\"1\" stroke=\"#000000\" stroke-opacity=\"1\" stroke-width=\"3.2\"/>\n",
       "<circle clip-path=\"url(#clip012)\" cx=\"1732.41\" cy=\"559.368\" r=\"14.4\" fill=\"#009af9\" fill-rule=\"evenodd\" fill-opacity=\"1\" stroke=\"#000000\" stroke-opacity=\"1\" stroke-width=\"3.2\"/>\n",
       "<circle clip-path=\"url(#clip012)\" cx=\"655.641\" cy=\"1056.05\" r=\"14.4\" fill=\"#009af9\" fill-rule=\"evenodd\" fill-opacity=\"1\" stroke=\"#000000\" stroke-opacity=\"1\" stroke-width=\"3.2\"/>\n",
       "<circle clip-path=\"url(#clip012)\" cx=\"1672.88\" cy=\"527.094\" r=\"14.4\" fill=\"#009af9\" fill-rule=\"evenodd\" fill-opacity=\"1\" stroke=\"#000000\" stroke-opacity=\"1\" stroke-width=\"3.2\"/>\n",
       "<circle clip-path=\"url(#clip012)\" cx=\"1865.18\" cy=\"472.052\" r=\"14.4\" fill=\"#009af9\" fill-rule=\"evenodd\" fill-opacity=\"1\" stroke=\"#000000\" stroke-opacity=\"1\" stroke-width=\"3.2\"/>\n",
       "<circle clip-path=\"url(#clip012)\" cx=\"965.002\" cy=\"850.234\" r=\"14.4\" fill=\"#009af9\" fill-rule=\"evenodd\" fill-opacity=\"1\" stroke=\"#000000\" stroke-opacity=\"1\" stroke-width=\"3.2\"/>\n",
       "<circle clip-path=\"url(#clip012)\" cx=\"1539.79\" cy=\"471.76\" r=\"14.4\" fill=\"#009af9\" fill-rule=\"evenodd\" fill-opacity=\"1\" stroke=\"#000000\" stroke-opacity=\"1\" stroke-width=\"3.2\"/>\n",
       "<circle clip-path=\"url(#clip012)\" cx=\"2044.61\" cy=\"598.16\" r=\"14.4\" fill=\"#009af9\" fill-rule=\"evenodd\" fill-opacity=\"1\" stroke=\"#000000\" stroke-opacity=\"1\" stroke-width=\"3.2\"/>\n",
       "<circle clip-path=\"url(#clip012)\" cx=\"1463.64\" cy=\"707.347\" r=\"14.4\" fill=\"#009af9\" fill-rule=\"evenodd\" fill-opacity=\"1\" stroke=\"#000000\" stroke-opacity=\"1\" stroke-width=\"3.2\"/>\n",
       "<circle clip-path=\"url(#clip012)\" cx=\"920.954\" cy=\"843.028\" r=\"14.4\" fill=\"#009af9\" fill-rule=\"evenodd\" fill-opacity=\"1\" stroke=\"#000000\" stroke-opacity=\"1\" stroke-width=\"3.2\"/>\n",
       "<circle clip-path=\"url(#clip012)\" cx=\"532.173\" cy=\"1447.87\" r=\"14.4\" fill=\"#009af9\" fill-rule=\"evenodd\" fill-opacity=\"1\" stroke=\"#000000\" stroke-opacity=\"1\" stroke-width=\"3.2\"/>\n",
       "<circle clip-path=\"url(#clip012)\" cx=\"1957.7\" cy=\"481.697\" r=\"14.4\" fill=\"#009af9\" fill-rule=\"evenodd\" fill-opacity=\"1\" stroke=\"#000000\" stroke-opacity=\"1\" stroke-width=\"3.2\"/>\n",
       "<circle clip-path=\"url(#clip012)\" cx=\"1797.61\" cy=\"359\" r=\"14.4\" fill=\"#009af9\" fill-rule=\"evenodd\" fill-opacity=\"1\" stroke=\"#000000\" stroke-opacity=\"1\" stroke-width=\"3.2\"/>\n",
       "<circle clip-path=\"url(#clip012)\" cx=\"736.102\" cy=\"1176.65\" r=\"14.4\" fill=\"#009af9\" fill-rule=\"evenodd\" fill-opacity=\"1\" stroke=\"#000000\" stroke-opacity=\"1\" stroke-width=\"3.2\"/>\n",
       "<circle clip-path=\"url(#clip012)\" cx=\"1797.15\" cy=\"300.033\" r=\"14.4\" fill=\"#009af9\" fill-rule=\"evenodd\" fill-opacity=\"1\" stroke=\"#000000\" stroke-opacity=\"1\" stroke-width=\"3.2\"/>\n",
       "<circle clip-path=\"url(#clip012)\" cx=\"1841.57\" cy=\"329.625\" r=\"14.4\" fill=\"#009af9\" fill-rule=\"evenodd\" fill-opacity=\"1\" stroke=\"#000000\" stroke-opacity=\"1\" stroke-width=\"3.2\"/>\n",
       "<circle clip-path=\"url(#clip012)\" cx=\"1078.06\" cy=\"1044.25\" r=\"14.4\" fill=\"#009af9\" fill-rule=\"evenodd\" fill-opacity=\"1\" stroke=\"#000000\" stroke-opacity=\"1\" stroke-width=\"3.2\"/>\n",
       "<circle clip-path=\"url(#clip012)\" cx=\"789.726\" cy=\"1113.38\" r=\"14.4\" fill=\"#009af9\" fill-rule=\"evenodd\" fill-opacity=\"1\" stroke=\"#000000\" stroke-opacity=\"1\" stroke-width=\"3.2\"/>\n",
       "<circle clip-path=\"url(#clip012)\" cx=\"729.055\" cy=\"1060.56\" r=\"14.4\" fill=\"#009af9\" fill-rule=\"evenodd\" fill-opacity=\"1\" stroke=\"#000000\" stroke-opacity=\"1\" stroke-width=\"3.2\"/>\n",
       "<circle clip-path=\"url(#clip012)\" cx=\"1510.95\" cy=\"380.264\" r=\"14.4\" fill=\"#009af9\" fill-rule=\"evenodd\" fill-opacity=\"1\" stroke=\"#000000\" stroke-opacity=\"1\" stroke-width=\"3.2\"/>\n",
       "<circle clip-path=\"url(#clip012)\" cx=\"1732.57\" cy=\"652.307\" r=\"14.4\" fill=\"#009af9\" fill-rule=\"evenodd\" fill-opacity=\"1\" stroke=\"#000000\" stroke-opacity=\"1\" stroke-width=\"3.2\"/>\n",
       "<circle clip-path=\"url(#clip012)\" cx=\"840.469\" cy=\"1137.05\" r=\"14.4\" fill=\"#009af9\" fill-rule=\"evenodd\" fill-opacity=\"1\" stroke=\"#000000\" stroke-opacity=\"1\" stroke-width=\"3.2\"/>\n",
       "<circle clip-path=\"url(#clip012)\" cx=\"211.556\" cy=\"899.127\" r=\"14.4\" fill=\"#009af9\" fill-rule=\"evenodd\" fill-opacity=\"1\" stroke=\"#000000\" stroke-opacity=\"1\" stroke-width=\"3.2\"/>\n",
       "<circle clip-path=\"url(#clip012)\" cx=\"552.842\" cy=\"1074.7\" r=\"14.4\" fill=\"#009af9\" fill-rule=\"evenodd\" fill-opacity=\"1\" stroke=\"#000000\" stroke-opacity=\"1\" stroke-width=\"3.2\"/>\n",
       "<circle clip-path=\"url(#clip012)\" cx=\"2028.85\" cy=\"321.375\" r=\"14.4\" fill=\"#009af9\" fill-rule=\"evenodd\" fill-opacity=\"1\" stroke=\"#000000\" stroke-opacity=\"1\" stroke-width=\"3.2\"/>\n",
       "<circle clip-path=\"url(#clip012)\" cx=\"770.445\" cy=\"1093.3\" r=\"14.4\" fill=\"#009af9\" fill-rule=\"evenodd\" fill-opacity=\"1\" stroke=\"#000000\" stroke-opacity=\"1\" stroke-width=\"3.2\"/>\n",
       "<circle clip-path=\"url(#clip012)\" cx=\"1124.97\" cy=\"1374.71\" r=\"14.4\" fill=\"#009af9\" fill-rule=\"evenodd\" fill-opacity=\"1\" stroke=\"#000000\" stroke-opacity=\"1\" stroke-width=\"3.2\"/>\n",
       "<circle clip-path=\"url(#clip012)\" cx=\"1887.45\" cy=\"484.317\" r=\"14.4\" fill=\"#009af9\" fill-rule=\"evenodd\" fill-opacity=\"1\" stroke=\"#000000\" stroke-opacity=\"1\" stroke-width=\"3.2\"/>\n",
       "<circle clip-path=\"url(#clip012)\" cx=\"743.746\" cy=\"957.92\" r=\"14.4\" fill=\"#009af9\" fill-rule=\"evenodd\" fill-opacity=\"1\" stroke=\"#000000\" stroke-opacity=\"1\" stroke-width=\"3.2\"/>\n",
       "<circle clip-path=\"url(#clip012)\" cx=\"1501.31\" cy=\"427.518\" r=\"14.4\" fill=\"#009af9\" fill-rule=\"evenodd\" fill-opacity=\"1\" stroke=\"#000000\" stroke-opacity=\"1\" stroke-width=\"3.2\"/>\n",
       "<circle clip-path=\"url(#clip012)\" cx=\"670.987\" cy=\"961.966\" r=\"14.4\" fill=\"#009af9\" fill-rule=\"evenodd\" fill-opacity=\"1\" stroke=\"#000000\" stroke-opacity=\"1\" stroke-width=\"3.2\"/>\n",
       "<circle clip-path=\"url(#clip012)\" cx=\"886.158\" cy=\"1157.64\" r=\"14.4\" fill=\"#009af9\" fill-rule=\"evenodd\" fill-opacity=\"1\" stroke=\"#000000\" stroke-opacity=\"1\" stroke-width=\"3.2\"/>\n",
       "<circle clip-path=\"url(#clip012)\" cx=\"1377.65\" cy=\"591.424\" r=\"14.4\" fill=\"#009af9\" fill-rule=\"evenodd\" fill-opacity=\"1\" stroke=\"#000000\" stroke-opacity=\"1\" stroke-width=\"3.2\"/>\n",
       "<circle clip-path=\"url(#clip012)\" cx=\"1853.23\" cy=\"532.546\" r=\"14.4\" fill=\"#009af9\" fill-rule=\"evenodd\" fill-opacity=\"1\" stroke=\"#000000\" stroke-opacity=\"1\" stroke-width=\"3.2\"/>\n",
       "<circle clip-path=\"url(#clip012)\" cx=\"709.096\" cy=\"1093.24\" r=\"14.4\" fill=\"#009af9\" fill-rule=\"evenodd\" fill-opacity=\"1\" stroke=\"#000000\" stroke-opacity=\"1\" stroke-width=\"3.2\"/>\n",
       "<circle clip-path=\"url(#clip012)\" cx=\"741.791\" cy=\"1096.65\" r=\"14.4\" fill=\"#009af9\" fill-rule=\"evenodd\" fill-opacity=\"1\" stroke=\"#000000\" stroke-opacity=\"1\" stroke-width=\"3.2\"/>\n",
       "<circle clip-path=\"url(#clip012)\" cx=\"1882.31\" cy=\"430.852\" r=\"14.4\" fill=\"#009af9\" fill-rule=\"evenodd\" fill-opacity=\"1\" stroke=\"#000000\" stroke-opacity=\"1\" stroke-width=\"3.2\"/>\n",
       "</svg>\n"
      ],
      "text/html": [
       "<img src=\"data:image/png;base64,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\" />"
      ]
     },
     "execution_count": 8,
     "metadata": {},
     "output_type": "execute_result"
    }
   ],
   "source": [
    "scatter(x[1, :], x[2, :]; legend=false, title=\"Synthetic Dataset\")"
   ]
  },
  {
   "cell_type": "code",
   "execution_count": 9,
   "id": "essential-manual",
   "metadata": {},
   "outputs": [],
   "source": [
    "using Turing\n",
    "\n",
    "@model function gaussian_mixture_model(x)\n",
    "    # Draw the parameters for each of the K=2 clusters from a standard normal distribution.\n",
    "    K = 2\n",
    "    μ ~ MvNormal(Zeros(K), I)\n",
    "\n",
    "    # Draw the weights for the K clusters from a Dirichlet distribution with parameters αₖ = 1.\n",
    "    w ~ Dirichlet(K, 1.0)\n",
    "    # Alternatively, one could use a fixed set of weights.\n",
    "    # w = fill(1/K, K)\n",
    "\n",
    "    # Construct categorical distribution of assignments.\n",
    "    distribution_assignments = Categorical(w)\n",
    "\n",
    "    # Construct multivariate normal distributions of each cluster.\n",
    "    D, N = size(x)\n",
    "    distribution_clusters = [MvNormal(Fill(μₖ, D), I) for μₖ in μ]\n",
    "\n",
    "    # Draw assignments for each datum and generate it from the multivariate normal distribution.\n",
    "    k = Vector{Int}(undef, N)\n",
    "    for i in 1:N\n",
    "        k[i] ~ distribution_assignments\n",
    "        x[:, i] ~ distribution_clusters[k[i]]\n",
    "    end\n",
    "\n",
    "    return k\n",
    "end\n",
    "\n",
    "model = gaussian_mixture_model(x);"
   ]
  },
  {
   "cell_type": "code",
   "execution_count": 10,
   "id": "sporting-canon",
   "metadata": {},
   "outputs": [
    {
     "name": "stdout",
     "output_type": "stream",
     "text": [
      "search: \u001b[0m\u001b[1mM\u001b[22m\u001b[0m\u001b[1mC\u001b[22m\u001b[0m\u001b[1mM\u001b[22m\u001b[0m\u001b[1mC\u001b[22m\u001b[0m\u001b[1mT\u001b[22m\u001b[0m\u001b[1mh\u001b[22m\u001b[0m\u001b[1mr\u001b[22m\u001b[0m\u001b[1me\u001b[22m\u001b[0m\u001b[1ma\u001b[22m\u001b[0m\u001b[1md\u001b[22m\u001b[0m\u001b[1ms\u001b[22m\n",
      "\n"
     ]
    },
    {
     "data": {
      "text/latex": [
       "\\begin{verbatim}\n",
       "MCMCThreads\n",
       "\\end{verbatim}\n",
       "The \\texttt{MCMCThreads} algorithm allows users to sample MCMC chains in parallel using multiple threads.\n",
       "\n"
      ],
      "text/markdown": [
       "```\n",
       "MCMCThreads\n",
       "```\n",
       "\n",
       "The `MCMCThreads` algorithm allows users to sample MCMC chains in parallel using multiple threads.\n"
      ],
      "text/plain": [
       "\u001b[36m  MCMCThreads\u001b[39m\n",
       "\n",
       "  The \u001b[36mMCMCThreads\u001b[39m algorithm allows users to sample MCMC chains in parallel\n",
       "  using multiple threads."
      ]
     },
     "execution_count": 10,
     "metadata": {},
     "output_type": "execute_result"
    }
   ],
   "source": [
    "?MCMCThreads"
   ]
  },
  {
   "cell_type": "code",
   "execution_count": null,
   "id": "optical-nursery",
   "metadata": {},
   "outputs": [
    {
     "name": "stderr",
     "output_type": "stream",
     "text": [
      "\u001b[33m\u001b[1m┌ \u001b[22m\u001b[39m\u001b[33m\u001b[1mWarning: \u001b[22m\u001b[39mOnly a single thread available: MCMC chains are not sampled in parallel\n",
      "\u001b[33m\u001b[1m└ \u001b[22m\u001b[39m\u001b[90m@ AbstractMCMC ~/.julia/packages/AbstractMCMC/fWWW0/src/sample.jl:296\u001b[39m\n"
     ]
    }
   ],
   "source": [
    "sampler = Gibbs(PG(100, :k), HMC(0.05, 10, :μ, :w))\n",
    "nsamples = 100\n",
    "nchains = 3\n",
    "@time chains = sample(model, sampler, MCMCThreads(), nsamples, nchains);"
   ]
  },
  {
   "cell_type": "code",
   "execution_count": null,
   "id": "velvet-conference",
   "metadata": {},
   "outputs": [],
   "source": [
    "plot(chains[[\"μ[1]\", \"μ[2]\"]]; colordim=:parameter, legend=true)"
   ]
  },
  {
   "cell_type": "code",
   "execution_count": null,
   "id": "laden-atmosphere",
   "metadata": {},
   "outputs": [],
   "source": [
    "chains"
   ]
  },
  {
   "cell_type": "code",
   "execution_count": null,
   "id": "british-editing",
   "metadata": {},
   "outputs": [],
   "source": []
  }
 ],
 "metadata": {
  "kernelspec": {
   "display_name": "Julia 1.10.2",
   "language": "julia",
   "name": "julia-1.10"
  },
  "language_info": {
   "file_extension": ".jl",
   "mimetype": "application/julia",
   "name": "julia",
   "version": "1.10.2"
  }
 },
 "nbformat": 4,
 "nbformat_minor": 5
}
